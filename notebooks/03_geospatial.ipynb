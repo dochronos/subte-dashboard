{
 "cells": [
  {
   "cell_type": "code",
   "execution_count": null,
   "id": "b6786a11",
   "metadata": {},
   "outputs": [],
   "source": [
    "# 03_geospatial.ipynb\n",
    "# Week 3: Integración geoespacial (Subte Dashboard)\n",
    "\n",
    "import os, pandas as pd, geopandas as gpd, plotly.express as px\n",
    "\n",
    "# Rutas\n",
    "BASE_DIR = os.path.abspath(\"..\")\n",
    "RAW_DIR  = os.path.join(BASE_DIR, \"data\", \"raw\")\n",
    "PROC_DIR = os.path.join(BASE_DIR, \"data\", \"processed\")\n",
    "\n",
    "# Dataset de bocas de subte\n",
    "bocas_path = os.path.join(RAW_DIR, \"bocas-de-subte.csv\")\n",
    "\n",
    "# Leer CSV\n",
    "bocas = pd.read_csv(bocas_path)\n",
    "\n",
    "print(\"Bocas shape:\", bocas.shape)\n",
    "print(bocas.head())\n",
    "\n",
    "# Normalizar columnas clave\n",
    "bocas.columns = [c.strip().lower() for c in bocas.columns]\n",
    "\n",
    "# Verificar campos de lat/lon\n",
    "print(bocas.filter(like=\"lat\").head())\n",
    "print(bocas.filter(like=\"lon\").head())\n",
    "\n",
    "# 👉 Próximos pasos:\n",
    "# - Confirmar columnas de coordenadas (ej: 'lat', 'lon')\n",
    "# - Hacer join con mol_full usando 'station'\n",
    "# - Primer scatter geo con Plotly\n"
   ]
  }
 ],
 "metadata": {
  "language_info": {
   "name": "python"
  }
 },
 "nbformat": 4,
 "nbformat_minor": 5
}
