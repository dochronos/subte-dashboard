{
 "cells": [
  {
   "cell_type": "markdown",
   "id": "75ff05c3",
   "metadata": {},
   "source": [
    "# Week 2 — Demand by Line & Monthly Trends (Buenos Aires Subte)\n",
    "\n",
    "**Objective:** Load the full 2024 turnstiles dataset (24 CSVs), clean/normalize,\n",
    "compute demand by line and monthly trends, and generate first visuals\n",
    "for the BI dashboard and the LinkedIn Week 2 update.\n",
    "\n",
    "**Outputs:**\n",
    "- `data/processed/agg_passengers_by_line_full.csv`\n",
    "- `data/processed/trend_passengers_by_line_month_full.csv`\n"
   ]
  },
  {
   "cell_type": "code",
   "execution_count": 2,
   "id": "1e9d2b41",
   "metadata": {},
   "outputs": [
    {
     "name": "stdout",
     "output_type": "stream",
     "text": [
      "RAW_DIR: c:\\Users\\do_ch\\OneDrive\\Escritorio\\Proyectos\\Proyectos GitHub\\subte-dashboard\\data\\raw\n",
      "PROC_DIR: c:\\Users\\do_ch\\OneDrive\\Escritorio\\Proyectos\\Proyectos GitHub\\subte-dashboard\\data\\processed\n",
      "MOL_DIR: c:\\Users\\do_ch\\OneDrive\\Escritorio\\Proyectos\\Proyectos GitHub\\subte-dashboard\\data\\raw\\molinetes exists? True\n"
     ]
    }
   ],
   "source": [
    "# === Week 2: Setup (minimal) ===\n",
    "import os, glob, re, csv\n",
    "import pandas as pd\n",
    "import plotly.express as px  # para los gráficos de los bloques 6+\n",
    "\n",
    "pd.options.display.max_rows = 10\n",
    "pd.options.display.float_format = \"{:,.0f}\".format\n",
    "\n",
    "# Paths\n",
    "BASE_DIR = os.path.abspath(\"..\")   # desde /notebooks\n",
    "RAW_DIR  = os.path.join(BASE_DIR, \"data\", \"raw\")\n",
    "PROC_DIR = os.path.join(BASE_DIR, \"data\", \"processed\")\n",
    "MOL_DIR  = os.path.join(RAW_DIR, \"molinetes\")\n",
    "\n",
    "os.makedirs(PROC_DIR, exist_ok=True)\n",
    "\n",
    "print(\"RAW_DIR:\", RAW_DIR)\n",
    "print(\"PROC_DIR:\", PROC_DIR)\n",
    "print(\"MOL_DIR:\", MOL_DIR, \"exists?\", os.path.exists(MOL_DIR))\n",
    "\n"
   ]
  },
  {
   "cell_type": "code",
   "execution_count": 3,
   "id": "c700c37e",
   "metadata": {},
   "outputs": [
    {
     "name": "stdout",
     "output_type": "stream",
     "text": [
      "MOL_DIR: c:\\Users\\do_ch\\OneDrive\\Escritorio\\Proyectos\\Proyectos GitHub\\subte-dashboard\\data\\raw\\molinetes exists? True\n",
      "CSV detected: 24\n",
      " - 202401_PAX15min-ABC.csv\n",
      " - 202401_PAX15min-DEH.csv\n",
      " - 202402_PAX15min-ABC.csv\n",
      " - 202402_PAX15min-DEH.csv\n",
      " - 202403_PAX15min-ABC.csv\n",
      "OK files: 24 | Failed: 0\n",
      "Shape: (11440440, 12)\n"
     ]
    },
    {
     "data": {
      "application/vnd.microsoft.datawrangler.viewer.v0+json": {
       "columns": [
        {
         "name": "index",
         "rawType": "int64",
         "type": "integer"
        },
        {
         "name": "date",
         "rawType": "datetime64[ns]",
         "type": "datetime"
        },
        {
         "name": "time_from",
         "rawType": "object",
         "type": "string"
        },
        {
         "name": "time_to",
         "rawType": "object",
         "type": "string"
        },
        {
         "name": "line",
         "rawType": "object",
         "type": "string"
        },
        {
         "name": "molinete",
         "rawType": "object",
         "type": "string"
        },
        {
         "name": "station",
         "rawType": "object",
         "type": "string"
        },
        {
         "name": "pax_pagos",
         "rawType": "object",
         "type": "string"
        },
        {
         "name": "pax_pases_pagos",
         "rawType": "object",
         "type": "string"
        },
        {
         "name": "pax_franq",
         "rawType": "object",
         "type": "string"
        },
        {
         "name": "passengers",
         "rawType": "int64",
         "type": "integer"
        },
        {
         "name": "source_file",
         "rawType": "object",
         "type": "string"
        },
        {
         "name": "year_month",
         "rawType": "object",
         "type": "string"
        }
       ],
       "ref": "424360e7-d911-489c-a9b1-19106fe10a24",
       "rows": [
        [
         "1",
         "2024-01-01 00:00:00",
         "07:45:00",
         "08:00:00",
         "B",
         "LineaB_Malabia_N_Turn01",
         "MALABIA",
         "3",
         "0",
         "0",
         "3",
         "202401_PAX15min-ABC.csv",
         "2024-01"
        ],
        [
         "2",
         "2024-01-01 00:00:00",
         "07:45:00",
         "08:00:00",
         "B",
         "LineaB_Tronador_Turn01",
         "TRONADOR",
         "1",
         "0",
         "0",
         "1",
         "202401_PAX15min-ABC.csv",
         "2024-01"
        ],
        [
         "3",
         "2024-01-01 00:00:00",
         "07:45:00",
         "08:00:00",
         "B",
         "LineaB_Pellegrini_E_Turn05",
         "CARLOS PELLEGRINI",
         "13",
         "0",
         "0",
         "13",
         "202401_PAX15min-ABC.csv",
         "2024-01"
        ],
        [
         "4",
         "2024-01-01 00:00:00",
         "07:45:00",
         "08:00:00",
         "A",
         "LineaA_Flores_Este_Turn03",
         "FLORES",
         "2",
         "0",
         "0",
         "2",
         "202401_PAX15min-ABC.csv",
         "2024-01"
        ],
        [
         "5",
         "2024-01-01 00:00:00",
         "07:45:00",
         "08:00:00",
         "B",
         "LineaB_Dorrego_N_Turn03",
         "DORREGO",
         "1",
         "0",
         "0",
         "1",
         "202401_PAX15min-ABC.csv",
         "2024-01"
        ]
       ],
       "shape": {
        "columns": 12,
        "rows": 5
       }
      },
      "text/html": [
       "<div>\n",
       "<style scoped>\n",
       "    .dataframe tbody tr th:only-of-type {\n",
       "        vertical-align: middle;\n",
       "    }\n",
       "\n",
       "    .dataframe tbody tr th {\n",
       "        vertical-align: top;\n",
       "    }\n",
       "\n",
       "    .dataframe thead th {\n",
       "        text-align: right;\n",
       "    }\n",
       "</style>\n",
       "<table border=\"1\" class=\"dataframe\">\n",
       "  <thead>\n",
       "    <tr style=\"text-align: right;\">\n",
       "      <th></th>\n",
       "      <th>date</th>\n",
       "      <th>time_from</th>\n",
       "      <th>time_to</th>\n",
       "      <th>line</th>\n",
       "      <th>molinete</th>\n",
       "      <th>station</th>\n",
       "      <th>pax_pagos</th>\n",
       "      <th>pax_pases_pagos</th>\n",
       "      <th>pax_franq</th>\n",
       "      <th>passengers</th>\n",
       "      <th>source_file</th>\n",
       "      <th>year_month</th>\n",
       "    </tr>\n",
       "  </thead>\n",
       "  <tbody>\n",
       "    <tr>\n",
       "      <th>1</th>\n",
       "      <td>2024-01-01</td>\n",
       "      <td>07:45:00</td>\n",
       "      <td>08:00:00</td>\n",
       "      <td>B</td>\n",
       "      <td>LineaB_Malabia_N_Turn01</td>\n",
       "      <td>MALABIA</td>\n",
       "      <td>3</td>\n",
       "      <td>0</td>\n",
       "      <td>0</td>\n",
       "      <td>3</td>\n",
       "      <td>202401_PAX15min-ABC.csv</td>\n",
       "      <td>2024-01</td>\n",
       "    </tr>\n",
       "    <tr>\n",
       "      <th>2</th>\n",
       "      <td>2024-01-01</td>\n",
       "      <td>07:45:00</td>\n",
       "      <td>08:00:00</td>\n",
       "      <td>B</td>\n",
       "      <td>LineaB_Tronador_Turn01</td>\n",
       "      <td>TRONADOR</td>\n",
       "      <td>1</td>\n",
       "      <td>0</td>\n",
       "      <td>0</td>\n",
       "      <td>1</td>\n",
       "      <td>202401_PAX15min-ABC.csv</td>\n",
       "      <td>2024-01</td>\n",
       "    </tr>\n",
       "    <tr>\n",
       "      <th>3</th>\n",
       "      <td>2024-01-01</td>\n",
       "      <td>07:45:00</td>\n",
       "      <td>08:00:00</td>\n",
       "      <td>B</td>\n",
       "      <td>LineaB_Pellegrini_E_Turn05</td>\n",
       "      <td>CARLOS PELLEGRINI</td>\n",
       "      <td>13</td>\n",
       "      <td>0</td>\n",
       "      <td>0</td>\n",
       "      <td>13</td>\n",
       "      <td>202401_PAX15min-ABC.csv</td>\n",
       "      <td>2024-01</td>\n",
       "    </tr>\n",
       "    <tr>\n",
       "      <th>4</th>\n",
       "      <td>2024-01-01</td>\n",
       "      <td>07:45:00</td>\n",
       "      <td>08:00:00</td>\n",
       "      <td>A</td>\n",
       "      <td>LineaA_Flores_Este_Turn03</td>\n",
       "      <td>FLORES</td>\n",
       "      <td>2</td>\n",
       "      <td>0</td>\n",
       "      <td>0</td>\n",
       "      <td>2</td>\n",
       "      <td>202401_PAX15min-ABC.csv</td>\n",
       "      <td>2024-01</td>\n",
       "    </tr>\n",
       "    <tr>\n",
       "      <th>5</th>\n",
       "      <td>2024-01-01</td>\n",
       "      <td>07:45:00</td>\n",
       "      <td>08:00:00</td>\n",
       "      <td>B</td>\n",
       "      <td>LineaB_Dorrego_N_Turn03</td>\n",
       "      <td>DORREGO</td>\n",
       "      <td>1</td>\n",
       "      <td>0</td>\n",
       "      <td>0</td>\n",
       "      <td>1</td>\n",
       "      <td>202401_PAX15min-ABC.csv</td>\n",
       "      <td>2024-01</td>\n",
       "    </tr>\n",
       "  </tbody>\n",
       "</table>\n",
       "</div>"
      ],
      "text/plain": [
       "        date time_from   time_to line                    molinete  \\\n",
       "1 2024-01-01  07:45:00  08:00:00    B     LineaB_Malabia_N_Turn01   \n",
       "2 2024-01-01  07:45:00  08:00:00    B      LineaB_Tronador_Turn01   \n",
       "3 2024-01-01  07:45:00  08:00:00    B  LineaB_Pellegrini_E_Turn05   \n",
       "4 2024-01-01  07:45:00  08:00:00    A   LineaA_Flores_Este_Turn03   \n",
       "5 2024-01-01  07:45:00  08:00:00    B     LineaB_Dorrego_N_Turn03   \n",
       "\n",
       "             station pax_pagos pax_pases_pagos pax_franq  passengers  \\\n",
       "1            MALABIA         3               0         0           3   \n",
       "2           TRONADOR         1               0         0           1   \n",
       "3  CARLOS PELLEGRINI        13               0         0          13   \n",
       "4             FLORES         2               0         0           2   \n",
       "5            DORREGO         1               0         0           1   \n",
       "\n",
       "               source_file year_month  \n",
       "1  202401_PAX15min-ABC.csv    2024-01  \n",
       "2  202401_PAX15min-ABC.csv    2024-01  \n",
       "3  202401_PAX15min-ABC.csv    2024-01  \n",
       "4  202401_PAX15min-ABC.csv    2024-01  \n",
       "5  202401_PAX15min-ABC.csv    2024-01  "
      ]
     },
     "execution_count": 3,
     "metadata": {},
     "output_type": "execute_result"
    }
   ],
   "source": [
    "# === Week 2: Load & Clean Full 2024 Turnstiles (24 CSVs) ===\n",
    "import os, glob, re, csv\n",
    "import pandas as pd\n",
    "\n",
    "pd.options.display.max_rows = 10\n",
    "pd.options.display.float_format = '{:,.0f}'.format\n",
    "\n",
    "# ---- Paths (self-contained) ----\n",
    "BASE_DIR = os.path.abspath(\"..\")          # from /notebooks\n",
    "RAW_DIR  = os.path.join(BASE_DIR, \"data\", \"raw\")\n",
    "MOL_DIR  = os.path.join(RAW_DIR, \"molinetes\")\n",
    "\n",
    "print(\"MOL_DIR:\", MOL_DIR, \"exists?\", os.path.exists(MOL_DIR))\n",
    "\n",
    "# ---- Detect CSVs ----\n",
    "mol_csvs = sorted(glob.glob(os.path.join(MOL_DIR, \"*.csv\")))\n",
    "print(\"CSV detected:\", len(mol_csvs))\n",
    "for p in mol_csvs[:5]:\n",
    "    print(\" -\", os.path.basename(p))\n",
    "assert len(mol_csvs) > 0, \"No CSV files found in data/raw/molinetes/.\"\n",
    "\n",
    "# ---- Encoding & separator profile ----\n",
    "ENC_LIST = [\"utf-8-sig\", \"utf-8\", \"latin1\", \"cp1252\"]\n",
    "SEP = \";\"   # confirmed by Week 1 debug\n",
    "\n",
    "# ---- Helpers to ensure unique/clean column names ----\n",
    "from collections import defaultdict\n",
    "\n",
    "def normalize_token(s: str) -> str:\n",
    "    s = (s or \"\").strip().strip('\"').strip()\n",
    "    s = re.sub(r\"\\s+\", \"_\", s)\n",
    "    s = s.lower()\n",
    "    return s or \"col\"\n",
    "\n",
    "def make_unique(cols):\n",
    "    seen = defaultdict(int)\n",
    "    out = []\n",
    "    for c in cols:\n",
    "        base = normalize_token(c)\n",
    "        seen[base] += 1\n",
    "        out.append(base if seen[base] == 1 else f\"{base}_{seen[base]-1}\")\n",
    "    return out\n",
    "\n",
    "# ---- Robust header reader (tries multiple encodings) ----\n",
    "def read_header_names(path, enc_list=ENC_LIST, sep=SEP):\n",
    "    last_err = None\n",
    "    for enc in enc_list:\n",
    "        try:\n",
    "            with open(path, \"r\", encoding=enc, errors=\"strict\") as f:\n",
    "                first_line = f.readline().rstrip(\"\\n\\r\")\n",
    "            if first_line.startswith('\"') and first_line.endswith('\"'):\n",
    "                first_line = first_line[1:-1]\n",
    "            raw_cols = [c for c in first_line.split(sep)]\n",
    "            return make_unique(raw_cols)\n",
    "        except Exception as e:\n",
    "            last_err = e\n",
    "            continue\n",
    "    # Fallback safe (replace invalid chars)\n",
    "    with open(path, \"r\", encoding=\"utf-8\", errors=\"replace\") as f:\n",
    "        first_line = f.readline().rstrip(\"\\n\\r\")\n",
    "    if first_line.startswith('\"') and first_line.endswith('\"'):\n",
    "        first_line = first_line[1:-1]\n",
    "    raw_cols = [c for c in first_line.split(sep)]\n",
    "    return make_unique(raw_cols)\n",
    "\n",
    "# ---- Robust CSV reader for quoted-rows + multiple encodings ----\n",
    "def read_molinetes_quoted(path, enc_list=ENC_LIST, sep=SEP):\n",
    "    cols = read_header_names(path, enc_list=enc_list, sep=sep)\n",
    "    last_err = None\n",
    "    for enc in enc_list:\n",
    "        try:\n",
    "            df = pd.read_csv(\n",
    "                path,\n",
    "                sep=sep,\n",
    "                encoding=enc,\n",
    "                engine=\"python\",\n",
    "                header=None,           # header ensuciado: lo pasamos manual en 'names'\n",
    "                names=cols,\n",
    "                quoting=csv.QUOTE_NONE, # ignorar quoting global\n",
    "                on_bad_lines=\"skip\"\n",
    "            )\n",
    "            # limpiar comillas/espacios residuales en columnas string\n",
    "            for c in df.select_dtypes(include=\"object\").columns:\n",
    "                df[c] = df[c].astype(str).str.strip('\"').str.strip()\n",
    "            return df\n",
    "        except Exception as e:\n",
    "            last_err = e\n",
    "            continue\n",
    "    raise RuntimeError(f\"Could not read {os.path.basename(path)} with encodings {enc_list}. Last error: {last_err}\")\n",
    "\n",
    "# ---- Load ALL CSVs, concat, and clean ----\n",
    "df_list, failed = [], []\n",
    "for p in mol_csvs:\n",
    "    try:\n",
    "        df = read_molinetes_quoted(p, enc_list=ENC_LIST, sep=SEP)\n",
    "        df[\"source_file\"] = os.path.basename(p)\n",
    "        df_list.append(df)\n",
    "    except Exception as e:\n",
    "        failed.append((os.path.basename(p), repr(e)))\n",
    "\n",
    "print(f\"OK files: {len(df_list)} | Failed: {len(failed)}\")\n",
    "if failed:\n",
    "    print(\"Failed examples:\", failed[:3])\n",
    "\n",
    "assert df_list, \"No CSV could be loaded — check 'failed' list above.\"\n",
    "mol_full = pd.concat(df_list, ignore_index=True)\n",
    "\n",
    "# Drop spurious columns (if present)\n",
    "for bad in [\"col\", \"col_1\", \"unnamed: 1\", \"unnamed: 2\"]:\n",
    "    if bad in mol_full.columns:\n",
    "        mol_full = mol_full.drop(columns=[bad], errors=\"ignore\")\n",
    "\n",
    "# Canonical rename\n",
    "mol_full.columns = [c.strip().lower() for c in mol_full.columns]\n",
    "rename_map = {}\n",
    "for c in mol_full.columns:\n",
    "    if c in {\"fecha\"}: rename_map[c] = \"date\"\n",
    "    if c in {\"desde\", \"desde_hora\", \"hora_desde\"}: rename_map[c] = \"time_from\"\n",
    "    if c in {\"hasta\", \"hasta_hora\", \"hora_hasta\"}: rename_map[c] = \"time_to\"\n",
    "    if c in {\"linea\", \"línea\", \"line\"}: rename_map[c] = \"line\"\n",
    "    if c in {\"estacion\", \"estación\", \"station\"}: rename_map[c] = \"station\"\n",
    "    if c in {\"pax_total\",\"viajes\",\"pasajeros\",\"pax\",\"passengers\",\"conteo\",\"count\"}:\n",
    "        rename_map[c] = \"passengers\"\n",
    "mol_full = mol_full.rename(columns=rename_map)\n",
    "\n",
    "# Remove header-like rows that slipped as data\n",
    "mask_header_row = (\n",
    "    mol_full.get(\"time_from\", \"\").astype(str).str.upper().eq(\"DESDE\") |\n",
    "    mol_full.get(\"time_to\", \"\").astype(str).str.upper().eq(\"HASTA\")\n",
    ")\n",
    "mol_full = mol_full.loc[~mask_header_row].copy()\n",
    "\n",
    "# Types and normalization\n",
    "mol_full[\"date\"] = pd.to_datetime(mol_full.get(\"date\"), errors=\"coerce\", dayfirst=True)\n",
    "mol_full[\"year_month\"] = mol_full[\"date\"].dt.to_period(\"M\").astype(str)\n",
    "\n",
    "for col in [\"time_from\", \"time_to\", \"station\"]:\n",
    "    if col in mol_full.columns:\n",
    "        mol_full[col] = mol_full[col].astype(str).str.strip().str.upper()\n",
    "\n",
    "# Passengers numeric (prefer pax_total if still present)\n",
    "if \"passengers\" not in mol_full.columns and \"pax_total\" in mol_full.columns:\n",
    "    mol_full[\"passengers\"] = pd.to_numeric(mol_full[\"pax_total\"], errors=\"coerce\")\n",
    "else:\n",
    "    mol_full[\"passengers\"] = pd.to_numeric(mol_full.get(\"passengers\"), errors=\"coerce\")\n",
    "\n",
    "# Normalize line: \"LineaB\" / \"LINEA B\" -> \"B\"\n",
    "if \"line\" in mol_full.columns:\n",
    "    mol_full[\"line\"] = (mol_full[\"line\"]\n",
    "                        .str.upper()\n",
    "                        .str.replace(r\"^LINEA\\s*\", \"\", regex=True)\n",
    "                        .str.strip())\n",
    "\n",
    "print(\"Shape:\", mol_full.shape)\n",
    "mol_full.head()\n"
   ]
  },
  {
   "cell_type": "code",
   "execution_count": 4,
   "id": "8a0f5352",
   "metadata": {},
   "outputs": [
    {
     "name": "stdout",
     "output_type": "stream",
     "text": [
      "Shape: (11440440, 12)\n",
      "Date range: 2024-01-01 00:00:00 → 2024-12-31 00:00:00\n",
      "Year-Month coverage: 12 months → ['2024-01', '2024-02', '2024-03', '2024-04', '2024-05'] ... ['2024-08', '2024-09', '2024-10', '2024-11', '2024-12']\n"
     ]
    },
    {
     "data": {
      "text/html": [
       "<style type=\"text/css\">\n",
       "</style>\n",
       "<table id=\"T_63763\">\n",
       "  <thead>\n",
       "    <tr>\n",
       "      <th class=\"blank level0\" >&nbsp;</th>\n",
       "      <th id=\"T_63763_level0_col0\" class=\"col_heading level0 col0\" >ratio</th>\n",
       "    </tr>\n",
       "  </thead>\n",
       "  <tbody>\n",
       "    <tr>\n",
       "      <th id=\"T_63763_level0_row0\" class=\"row_heading level0 row0\" >date_null_ratio</th>\n",
       "      <td id=\"T_63763_row0_col0\" class=\"data row0 col0\" >0.00%</td>\n",
       "    </tr>\n",
       "    <tr>\n",
       "      <th id=\"T_63763_level0_row1\" class=\"row_heading level0 row1\" >line_null_ratio</th>\n",
       "      <td id=\"T_63763_row1_col0\" class=\"data row1 col0\" >0.00%</td>\n",
       "    </tr>\n",
       "    <tr>\n",
       "      <th id=\"T_63763_level0_row2\" class=\"row_heading level0 row2\" >station_null_ratio</th>\n",
       "      <td id=\"T_63763_row2_col0\" class=\"data row2 col0\" >0.00%</td>\n",
       "    </tr>\n",
       "    <tr>\n",
       "      <th id=\"T_63763_level0_row3\" class=\"row_heading level0 row3\" >passengers_null_ratio</th>\n",
       "      <td id=\"T_63763_row3_col0\" class=\"data row3 col0\" >0.00%</td>\n",
       "    </tr>\n",
       "    <tr>\n",
       "      <th id=\"T_63763_level0_row4\" class=\"row_heading level0 row4\" >time_from_null_ratio</th>\n",
       "      <td id=\"T_63763_row4_col0\" class=\"data row4 col0\" >0.00%</td>\n",
       "    </tr>\n",
       "    <tr>\n",
       "      <th id=\"T_63763_level0_row5\" class=\"row_heading level0 row5\" >time_to_null_ratio</th>\n",
       "      <td id=\"T_63763_row5_col0\" class=\"data row5 col0\" >0.00%</td>\n",
       "    </tr>\n",
       "  </tbody>\n",
       "</table>\n"
      ],
      "text/plain": [
       "<pandas.io.formats.style.Styler at 0x2430bc02b10>"
      ]
     },
     "metadata": {},
     "output_type": "display_data"
    },
    {
     "name": "stdout",
     "output_type": "stream",
     "text": [
      "Negative passengers rows: 0\n",
      "Zero passengers rows: 44824\n",
      "Potential duplicates (subset=['date', 'time_from', 'time_to', 'line', 'station', 'molinete']): 6\n"
     ]
    },
    {
     "data": {
      "application/vnd.microsoft.datawrangler.viewer.v0+json": {
       "columns": [
        {
         "name": "source_file",
         "rawType": "object",
         "type": "string"
        },
        {
         "name": "rows",
         "rawType": "int64",
         "type": "integer"
        }
       ],
       "ref": "91d18fe9-da93-42ef-89ff-7af3409955df",
       "rows": [
        [
         "202403_PAX15min-ABC.csv",
         "599344"
        ],
        [
         "202408_PAX15min-ABC.csv",
         "597421"
        ],
        [
         "202401_PAX15min-ABC.csv",
         "587990"
        ],
        [
         "202404_PAX15min-ABC.csv",
         "574669"
        ],
        [
         "202405_PAX15min-ABC.csv",
         "569524"
        ],
        [
         "202407_PAX15min-ABC.csv",
         "567561"
        ],
        [
         "202402_PAX15min-ABC.csv",
         "551054"
        ],
        [
         "202406_PAX15min-ABC.csv",
         "549191"
        ],
        [
         "202409_PAX15min-ABC.csv",
         "540374"
        ],
        [
         "202412_PAX15min-ABC-INCLUYEOTROMODOSDEPAGO.csv",
         "526213"
        ]
       ],
       "shape": {
        "columns": 1,
        "rows": 10
       }
      },
      "text/html": [
       "<div>\n",
       "<style scoped>\n",
       "    .dataframe tbody tr th:only-of-type {\n",
       "        vertical-align: middle;\n",
       "    }\n",
       "\n",
       "    .dataframe tbody tr th {\n",
       "        vertical-align: top;\n",
       "    }\n",
       "\n",
       "    .dataframe thead th {\n",
       "        text-align: right;\n",
       "    }\n",
       "</style>\n",
       "<table border=\"1\" class=\"dataframe\">\n",
       "  <thead>\n",
       "    <tr style=\"text-align: right;\">\n",
       "      <th></th>\n",
       "      <th>rows</th>\n",
       "    </tr>\n",
       "    <tr>\n",
       "      <th>source_file</th>\n",
       "      <th></th>\n",
       "    </tr>\n",
       "  </thead>\n",
       "  <tbody>\n",
       "    <tr>\n",
       "      <th>202403_PAX15min-ABC.csv</th>\n",
       "      <td>599344</td>\n",
       "    </tr>\n",
       "    <tr>\n",
       "      <th>202408_PAX15min-ABC.csv</th>\n",
       "      <td>597421</td>\n",
       "    </tr>\n",
       "    <tr>\n",
       "      <th>202401_PAX15min-ABC.csv</th>\n",
       "      <td>587990</td>\n",
       "    </tr>\n",
       "    <tr>\n",
       "      <th>202404_PAX15min-ABC.csv</th>\n",
       "      <td>574669</td>\n",
       "    </tr>\n",
       "    <tr>\n",
       "      <th>202405_PAX15min-ABC.csv</th>\n",
       "      <td>569524</td>\n",
       "    </tr>\n",
       "    <tr>\n",
       "      <th>202407_PAX15min-ABC.csv</th>\n",
       "      <td>567561</td>\n",
       "    </tr>\n",
       "    <tr>\n",
       "      <th>202402_PAX15min-ABC.csv</th>\n",
       "      <td>551054</td>\n",
       "    </tr>\n",
       "    <tr>\n",
       "      <th>202406_PAX15min-ABC.csv</th>\n",
       "      <td>549191</td>\n",
       "    </tr>\n",
       "    <tr>\n",
       "      <th>202409_PAX15min-ABC.csv</th>\n",
       "      <td>540374</td>\n",
       "    </tr>\n",
       "    <tr>\n",
       "      <th>202412_PAX15min-ABC-INCLUYEOTROMODOSDEPAGO.csv</th>\n",
       "      <td>526213</td>\n",
       "    </tr>\n",
       "  </tbody>\n",
       "</table>\n",
       "</div>"
      ],
      "text/plain": [
       "                                                  rows\n",
       "source_file                                           \n",
       "202403_PAX15min-ABC.csv                         599344\n",
       "202408_PAX15min-ABC.csv                         597421\n",
       "202401_PAX15min-ABC.csv                         587990\n",
       "202404_PAX15min-ABC.csv                         574669\n",
       "202405_PAX15min-ABC.csv                         569524\n",
       "202407_PAX15min-ABC.csv                         567561\n",
       "202402_PAX15min-ABC.csv                         551054\n",
       "202406_PAX15min-ABC.csv                         549191\n",
       "202409_PAX15min-ABC.csv                         540374\n",
       "202412_PAX15min-ABC-INCLUYEOTROMODOSDEPAGO.csv  526213"
      ]
     },
     "metadata": {},
     "output_type": "display_data"
    },
    {
     "name": "stdout",
     "output_type": "stream",
     "text": [
      "Files count: 24\n"
     ]
    },
    {
     "data": {
      "application/vnd.microsoft.datawrangler.viewer.v0+json": {
       "columns": [
        {
         "name": "index",
         "rawType": "int64",
         "type": "integer"
        },
        {
         "name": "line",
         "rawType": "object",
         "type": "string"
        },
        {
         "name": "passengers",
         "rawType": "int64",
         "type": "integer"
        }
       ],
       "ref": "08e96203-6c6e-428b-a219-20cf4cc1c286",
       "rows": [
        [
         "1",
         "B",
         "50423199"
        ],
        [
         "0",
         "A",
         "41170071"
        ],
        [
         "3",
         "D",
         "34606264"
        ],
        [
         "2",
         "C",
         "32528567"
        ],
        [
         "5",
         "H",
         "22606254"
        ]
       ],
       "shape": {
        "columns": 2,
        "rows": 5
       }
      },
      "text/html": [
       "<div>\n",
       "<style scoped>\n",
       "    .dataframe tbody tr th:only-of-type {\n",
       "        vertical-align: middle;\n",
       "    }\n",
       "\n",
       "    .dataframe tbody tr th {\n",
       "        vertical-align: top;\n",
       "    }\n",
       "\n",
       "    .dataframe thead th {\n",
       "        text-align: right;\n",
       "    }\n",
       "</style>\n",
       "<table border=\"1\" class=\"dataframe\">\n",
       "  <thead>\n",
       "    <tr style=\"text-align: right;\">\n",
       "      <th></th>\n",
       "      <th>line</th>\n",
       "      <th>passengers</th>\n",
       "    </tr>\n",
       "  </thead>\n",
       "  <tbody>\n",
       "    <tr>\n",
       "      <th>1</th>\n",
       "      <td>B</td>\n",
       "      <td>50423199</td>\n",
       "    </tr>\n",
       "    <tr>\n",
       "      <th>0</th>\n",
       "      <td>A</td>\n",
       "      <td>41170071</td>\n",
       "    </tr>\n",
       "    <tr>\n",
       "      <th>3</th>\n",
       "      <td>D</td>\n",
       "      <td>34606264</td>\n",
       "    </tr>\n",
       "    <tr>\n",
       "      <th>2</th>\n",
       "      <td>C</td>\n",
       "      <td>32528567</td>\n",
       "    </tr>\n",
       "    <tr>\n",
       "      <th>5</th>\n",
       "      <td>H</td>\n",
       "      <td>22606254</td>\n",
       "    </tr>\n",
       "  </tbody>\n",
       "</table>\n",
       "</div>"
      ],
      "text/plain": [
       "  line  passengers\n",
       "1    B    50423199\n",
       "0    A    41170071\n",
       "3    D    34606264\n",
       "2    C    32528567\n",
       "5    H    22606254"
      ]
     },
     "metadata": {},
     "output_type": "display_data"
    },
    {
     "data": {
      "application/vnd.microsoft.datawrangler.viewer.v0+json": {
       "columns": [
        {
         "name": "index",
         "rawType": "int64",
         "type": "integer"
        },
        {
         "name": "station",
         "rawType": "object",
         "type": "string"
        },
        {
         "name": "passengers",
         "rawType": "int64",
         "type": "integer"
        }
       ],
       "ref": "0c4804db-4490-47a5-980d-d43affa71a12",
       "rows": [
        [
         "22",
         "CONSTITUCION",
         "17666095"
        ],
        [
         "78",
         "RETIRO",
         "7018302"
        ],
        [
         "87",
         "SAN PEDRITO",
         "6511114"
        ],
        [
         "83",
         "ROSAS",
         "5763678"
        ],
        [
         "33",
         "FEDERICO LACROZE",
         "5734713"
        ]
       ],
       "shape": {
        "columns": 2,
        "rows": 5
       }
      },
      "text/html": [
       "<div>\n",
       "<style scoped>\n",
       "    .dataframe tbody tr th:only-of-type {\n",
       "        vertical-align: middle;\n",
       "    }\n",
       "\n",
       "    .dataframe tbody tr th {\n",
       "        vertical-align: top;\n",
       "    }\n",
       "\n",
       "    .dataframe thead th {\n",
       "        text-align: right;\n",
       "    }\n",
       "</style>\n",
       "<table border=\"1\" class=\"dataframe\">\n",
       "  <thead>\n",
       "    <tr style=\"text-align: right;\">\n",
       "      <th></th>\n",
       "      <th>station</th>\n",
       "      <th>passengers</th>\n",
       "    </tr>\n",
       "  </thead>\n",
       "  <tbody>\n",
       "    <tr>\n",
       "      <th>22</th>\n",
       "      <td>CONSTITUCION</td>\n",
       "      <td>17666095</td>\n",
       "    </tr>\n",
       "    <tr>\n",
       "      <th>78</th>\n",
       "      <td>RETIRO</td>\n",
       "      <td>7018302</td>\n",
       "    </tr>\n",
       "    <tr>\n",
       "      <th>87</th>\n",
       "      <td>SAN PEDRITO</td>\n",
       "      <td>6511114</td>\n",
       "    </tr>\n",
       "    <tr>\n",
       "      <th>83</th>\n",
       "      <td>ROSAS</td>\n",
       "      <td>5763678</td>\n",
       "    </tr>\n",
       "    <tr>\n",
       "      <th>33</th>\n",
       "      <td>FEDERICO LACROZE</td>\n",
       "      <td>5734713</td>\n",
       "    </tr>\n",
       "  </tbody>\n",
       "</table>\n",
       "</div>"
      ],
      "text/plain": [
       "             station  passengers\n",
       "22      CONSTITUCION    17666095\n",
       "78            RETIRO     7018302\n",
       "87       SAN PEDRITO     6511114\n",
       "83             ROSAS     5763678\n",
       "33  FEDERICO LACROZE     5734713"
      ]
     },
     "metadata": {},
     "output_type": "display_data"
    },
    {
     "data": {
      "application/vnd.microsoft.datawrangler.viewer.v0+json": {
       "columns": [
        {
         "name": "index",
         "rawType": "object",
         "type": "string"
        },
        {
         "name": "passengers_stats",
         "rawType": "float64",
         "type": "float"
        }
       ],
       "ref": "d5240420-28bd-4582-91a7-61be08e38fbc",
       "rows": [
        [
         "count",
         "11440440.0"
        ],
        [
         "mean",
         "17.603054427976545"
        ],
        [
         "std",
         "20.55331376195492"
        ],
        [
         "min",
         "0.0"
        ],
        [
         "50%",
         "11.0"
        ],
        [
         "90%",
         "42.0"
        ],
        [
         "99%",
         "98.0"
        ],
        [
         "max",
         "398.0"
        ]
       ],
       "shape": {
        "columns": 1,
        "rows": 8
       }
      },
      "text/html": [
       "<div>\n",
       "<style scoped>\n",
       "    .dataframe tbody tr th:only-of-type {\n",
       "        vertical-align: middle;\n",
       "    }\n",
       "\n",
       "    .dataframe tbody tr th {\n",
       "        vertical-align: top;\n",
       "    }\n",
       "\n",
       "    .dataframe thead th {\n",
       "        text-align: right;\n",
       "    }\n",
       "</style>\n",
       "<table border=\"1\" class=\"dataframe\">\n",
       "  <thead>\n",
       "    <tr style=\"text-align: right;\">\n",
       "      <th></th>\n",
       "      <th>passengers_stats</th>\n",
       "    </tr>\n",
       "  </thead>\n",
       "  <tbody>\n",
       "    <tr>\n",
       "      <th>count</th>\n",
       "      <td>11,440,440</td>\n",
       "    </tr>\n",
       "    <tr>\n",
       "      <th>mean</th>\n",
       "      <td>18</td>\n",
       "    </tr>\n",
       "    <tr>\n",
       "      <th>std</th>\n",
       "      <td>21</td>\n",
       "    </tr>\n",
       "    <tr>\n",
       "      <th>min</th>\n",
       "      <td>0</td>\n",
       "    </tr>\n",
       "    <tr>\n",
       "      <th>50%</th>\n",
       "      <td>11</td>\n",
       "    </tr>\n",
       "    <tr>\n",
       "      <th>90%</th>\n",
       "      <td>42</td>\n",
       "    </tr>\n",
       "    <tr>\n",
       "      <th>99%</th>\n",
       "      <td>98</td>\n",
       "    </tr>\n",
       "    <tr>\n",
       "      <th>max</th>\n",
       "      <td>398</td>\n",
       "    </tr>\n",
       "  </tbody>\n",
       "</table>\n",
       "</div>"
      ],
      "text/plain": [
       "       passengers_stats\n",
       "count        11,440,440\n",
       "mean                 18\n",
       "std                  21\n",
       "min                   0\n",
       "50%                  11\n",
       "90%                  42\n",
       "99%                  98\n",
       "max                 398"
      ]
     },
     "metadata": {},
     "output_type": "display_data"
    }
   ],
   "source": [
    "# === Week 2: QA & sanity checks on mol_full ===\n",
    "import numpy as np\n",
    "import pandas as pd\n",
    "\n",
    "assert \"mol_full\" in globals(), \"mol_full not found. Run the load/clean block first.\"\n",
    "\n",
    "print(\"Shape:\", mol_full.shape)\n",
    "\n",
    "# 1) Rango temporal y cobertura\n",
    "date_min, date_max = mol_full[\"date\"].min(), mol_full[\"date\"].max()\n",
    "print(\"Date range:\", date_min, \"→\", date_max)\n",
    "\n",
    "if \"year_month\" in mol_full.columns:\n",
    "    months = mol_full[\"year_month\"].dropna().unique()\n",
    "    print(\"Year-Month coverage:\", len(months), \"months →\", sorted(months)[:5], \"...\", sorted(months)[-5:])\n",
    "\n",
    "# 2) Ratios de nulos en campos clave\n",
    "keys = [c for c in [\"date\",\"line\",\"station\",\"passengers\",\"time_from\",\"time_to\"] if c in mol_full.columns]\n",
    "null_ratios = mol_full[keys].isna().mean().rename(lambda x: f\"{x}_null_ratio\").to_frame(\"ratio\")\n",
    "display(null_ratios.style.format(\"{:.2%}\"))\n",
    "\n",
    "# 3) Valores sospechosos\n",
    "neg_pass = (mol_full[\"passengers\"] < 0).sum() if \"passengers\" in mol_full.columns else 0\n",
    "print(\"Negative passengers rows:\", int(neg_pass))\n",
    "\n",
    "zero_pass = (mol_full[\"passengers\"] == 0).sum() if \"passengers\" in mol_full.columns else 0\n",
    "print(\"Zero passengers rows:\", int(zero_pass))\n",
    "\n",
    "# 4) Duplicados potenciales (clave mínima por 15-min)\n",
    "dup_cols = [c for c in [\"date\",\"time_from\",\"time_to\",\"line\",\"station\",\"molinete\"] if c in mol_full.columns]\n",
    "if dup_cols:\n",
    "    dups = mol_full.duplicated(subset=dup_cols, keep=False).sum()\n",
    "    print(f\"Potential duplicates (subset={dup_cols}):\", int(dups))\n",
    "else:\n",
    "    print(\"Duplicate check skipped (subset columns not all present).\")\n",
    "\n",
    "# 5) Resumen de archivos fuente (esperado: 24)\n",
    "by_file = mol_full[\"source_file\"].value_counts().rename_axis(\"source_file\").to_frame(\"rows\")\n",
    "display(by_file.head(10))\n",
    "print(\"Files count:\", by_file.shape[0])\n",
    "\n",
    "# 6) Distribución por línea y estación (muestras)\n",
    "if \"line\" in mol_full.columns and \"passengers\" in mol_full.columns:\n",
    "    agg_line_preview = (mol_full\n",
    "                        .dropna(subset=[\"line\",\"passengers\"])\n",
    "                        .groupby(\"line\", as_index=False)[\"passengers\"].sum()\n",
    "                        .sort_values(\"passengers\", ascending=False))\n",
    "    display(agg_line_preview.head())\n",
    "\n",
    "if \"station\" in mol_full.columns and \"passengers\" in mol_full.columns:\n",
    "    agg_station_preview = (mol_full\n",
    "                           .dropna(subset=[\"station\",\"passengers\"])\n",
    "                           .groupby(\"station\", as_index=False)[\"passengers\"].sum()\n",
    "                           .sort_values(\"passengers\", ascending=False))\n",
    "    display(agg_station_preview.head())\n",
    "\n",
    "# 7) Quick stats de passengers\n",
    "if \"passengers\" in mol_full.columns:\n",
    "    desc = mol_full[\"passengers\"].describe(percentiles=[0.5,0.9,0.99]).to_frame(\"passengers_stats\")\n",
    "    display(desc)\n",
    "\n",
    "# 8) Muestras de filas problemáticas (si las hay)\n",
    "issues = {}\n",
    "if \"passengers\" in mol_full.columns:\n",
    "    issues[\"negatives\"] = mol_full.loc[mol_full[\"passengers\"] < 0].head(3)\n",
    "    issues[\"null_core\"] = mol_full.loc[mol_full[[\"date\",\"line\",\"station\",\"passengers\"]].isna().any(axis=1)].head(3)\n",
    "\n",
    "for k, df in issues.items():\n",
    "    if not df.empty:\n",
    "        print(f\"\\nSample problematic rows: {k}\")\n",
    "        display(df)\n"
   ]
  },
  {
   "cell_type": "code",
   "execution_count": 5,
   "id": "cdb45e22",
   "metadata": {},
   "outputs": [
    {
     "data": {
      "application/vnd.microsoft.datawrangler.viewer.v0+json": {
       "columns": [
        {
         "name": "index",
         "rawType": "int64",
         "type": "integer"
        },
        {
         "name": "line",
         "rawType": "object",
         "type": "string"
        },
        {
         "name": "passengers",
         "rawType": "int64",
         "type": "integer"
        }
       ],
       "ref": "ace988c8-9864-4eb8-98c8-c180c01e2ae5",
       "rows": [
        [
         "1",
         "B",
         "50423199"
        ],
        [
         "0",
         "A",
         "41170071"
        ],
        [
         "3",
         "D",
         "34606264"
        ],
        [
         "2",
         "C",
         "32528567"
        ],
        [
         "5",
         "H",
         "22606254"
        ],
        [
         "4",
         "E",
         "20052333"
        ]
       ],
       "shape": {
        "columns": 2,
        "rows": 6
       }
      },
      "text/html": [
       "<div>\n",
       "<style scoped>\n",
       "    .dataframe tbody tr th:only-of-type {\n",
       "        vertical-align: middle;\n",
       "    }\n",
       "\n",
       "    .dataframe tbody tr th {\n",
       "        vertical-align: top;\n",
       "    }\n",
       "\n",
       "    .dataframe thead th {\n",
       "        text-align: right;\n",
       "    }\n",
       "</style>\n",
       "<table border=\"1\" class=\"dataframe\">\n",
       "  <thead>\n",
       "    <tr style=\"text-align: right;\">\n",
       "      <th></th>\n",
       "      <th>line</th>\n",
       "      <th>passengers</th>\n",
       "    </tr>\n",
       "  </thead>\n",
       "  <tbody>\n",
       "    <tr>\n",
       "      <th>1</th>\n",
       "      <td>B</td>\n",
       "      <td>50423199</td>\n",
       "    </tr>\n",
       "    <tr>\n",
       "      <th>0</th>\n",
       "      <td>A</td>\n",
       "      <td>41170071</td>\n",
       "    </tr>\n",
       "    <tr>\n",
       "      <th>3</th>\n",
       "      <td>D</td>\n",
       "      <td>34606264</td>\n",
       "    </tr>\n",
       "    <tr>\n",
       "      <th>2</th>\n",
       "      <td>C</td>\n",
       "      <td>32528567</td>\n",
       "    </tr>\n",
       "    <tr>\n",
       "      <th>5</th>\n",
       "      <td>H</td>\n",
       "      <td>22606254</td>\n",
       "    </tr>\n",
       "    <tr>\n",
       "      <th>4</th>\n",
       "      <td>E</td>\n",
       "      <td>20052333</td>\n",
       "    </tr>\n",
       "  </tbody>\n",
       "</table>\n",
       "</div>"
      ],
      "text/plain": [
       "  line  passengers\n",
       "1    B    50423199\n",
       "0    A    41170071\n",
       "3    D    34606264\n",
       "2    C    32528567\n",
       "5    H    22606254\n",
       "4    E    20052333"
      ]
     },
     "metadata": {},
     "output_type": "display_data"
    },
    {
     "data": {
      "application/vnd.microsoft.datawrangler.viewer.v0+json": {
       "columns": [
        {
         "name": "index",
         "rawType": "int64",
         "type": "integer"
        },
        {
         "name": "year_month",
         "rawType": "object",
         "type": "string"
        },
        {
         "name": "line",
         "rawType": "object",
         "type": "string"
        },
        {
         "name": "passengers",
         "rawType": "int64",
         "type": "integer"
        }
       ],
       "ref": "470ca033-22cd-49f4-bcf9-f3adb63f366f",
       "rows": [
        [
         "0",
         "2024-01",
         "A",
         "3263982"
        ],
        [
         "1",
         "2024-01",
         "B",
         "4239766"
        ],
        [
         "2",
         "2024-01",
         "C",
         "2776085"
        ],
        [
         "3",
         "2024-01",
         "D",
         "605572"
        ],
        [
         "4",
         "2024-01",
         "E",
         "1411591"
        ],
        [
         "5",
         "2024-01",
         "H",
         "1659613"
        ],
        [
         "6",
         "2024-02",
         "A",
         "3097299"
        ],
        [
         "7",
         "2024-02",
         "B",
         "4060790"
        ],
        [
         "8",
         "2024-02",
         "C",
         "2425315"
        ],
        [
         "9",
         "2024-02",
         "D",
         "645"
        ],
        [
         "10",
         "2024-02",
         "E",
         "1400948"
        ],
        [
         "11",
         "2024-02",
         "H",
         "1645497"
        ],
        [
         "12",
         "2024-03",
         "A",
         "3950494"
        ],
        [
         "13",
         "2024-03",
         "B",
         "4895806"
        ],
        [
         "14",
         "2024-03",
         "C",
         "3092070"
        ],
        [
         "15",
         "2024-03",
         "D",
         "3012727"
        ],
        [
         "16",
         "2024-03",
         "E",
         "1934438"
        ],
        [
         "17",
         "2024-03",
         "H",
         "2220676"
        ]
       ],
       "shape": {
        "columns": 3,
        "rows": 18
       }
      },
      "text/html": [
       "<div>\n",
       "<style scoped>\n",
       "    .dataframe tbody tr th:only-of-type {\n",
       "        vertical-align: middle;\n",
       "    }\n",
       "\n",
       "    .dataframe tbody tr th {\n",
       "        vertical-align: top;\n",
       "    }\n",
       "\n",
       "    .dataframe thead th {\n",
       "        text-align: right;\n",
       "    }\n",
       "</style>\n",
       "<table border=\"1\" class=\"dataframe\">\n",
       "  <thead>\n",
       "    <tr style=\"text-align: right;\">\n",
       "      <th></th>\n",
       "      <th>year_month</th>\n",
       "      <th>line</th>\n",
       "      <th>passengers</th>\n",
       "    </tr>\n",
       "  </thead>\n",
       "  <tbody>\n",
       "    <tr>\n",
       "      <th>0</th>\n",
       "      <td>2024-01</td>\n",
       "      <td>A</td>\n",
       "      <td>3263982</td>\n",
       "    </tr>\n",
       "    <tr>\n",
       "      <th>1</th>\n",
       "      <td>2024-01</td>\n",
       "      <td>B</td>\n",
       "      <td>4239766</td>\n",
       "    </tr>\n",
       "    <tr>\n",
       "      <th>2</th>\n",
       "      <td>2024-01</td>\n",
       "      <td>C</td>\n",
       "      <td>2776085</td>\n",
       "    </tr>\n",
       "    <tr>\n",
       "      <th>3</th>\n",
       "      <td>2024-01</td>\n",
       "      <td>D</td>\n",
       "      <td>605572</td>\n",
       "    </tr>\n",
       "    <tr>\n",
       "      <th>4</th>\n",
       "      <td>2024-01</td>\n",
       "      <td>E</td>\n",
       "      <td>1411591</td>\n",
       "    </tr>\n",
       "    <tr>\n",
       "      <th>...</th>\n",
       "      <td>...</td>\n",
       "      <td>...</td>\n",
       "      <td>...</td>\n",
       "    </tr>\n",
       "    <tr>\n",
       "      <th>13</th>\n",
       "      <td>2024-03</td>\n",
       "      <td>B</td>\n",
       "      <td>4895806</td>\n",
       "    </tr>\n",
       "    <tr>\n",
       "      <th>14</th>\n",
       "      <td>2024-03</td>\n",
       "      <td>C</td>\n",
       "      <td>3092070</td>\n",
       "    </tr>\n",
       "    <tr>\n",
       "      <th>15</th>\n",
       "      <td>2024-03</td>\n",
       "      <td>D</td>\n",
       "      <td>3012727</td>\n",
       "    </tr>\n",
       "    <tr>\n",
       "      <th>16</th>\n",
       "      <td>2024-03</td>\n",
       "      <td>E</td>\n",
       "      <td>1934438</td>\n",
       "    </tr>\n",
       "    <tr>\n",
       "      <th>17</th>\n",
       "      <td>2024-03</td>\n",
       "      <td>H</td>\n",
       "      <td>2220676</td>\n",
       "    </tr>\n",
       "  </tbody>\n",
       "</table>\n",
       "<p>18 rows × 3 columns</p>\n",
       "</div>"
      ],
      "text/plain": [
       "   year_month line  passengers\n",
       "0     2024-01    A     3263982\n",
       "1     2024-01    B     4239766\n",
       "2     2024-01    C     2776085\n",
       "3     2024-01    D      605572\n",
       "4     2024-01    E     1411591\n",
       "..        ...  ...         ...\n",
       "13    2024-03    B     4895806\n",
       "14    2024-03    C     3092070\n",
       "15    2024-03    D     3012727\n",
       "16    2024-03    E     1934438\n",
       "17    2024-03    H     2220676\n",
       "\n",
       "[18 rows x 3 columns]"
      ]
     },
     "metadata": {},
     "output_type": "display_data"
    }
   ],
   "source": [
    "# === Week 2: Aggregates ===\n",
    "\n",
    "# Total pasajeros por línea en todo 2024\n",
    "agg_line_full = (\n",
    "    mol_full\n",
    "    .dropna(subset=[\"line\",\"passengers\"])\n",
    "    .groupby(\"line\", as_index=False)[\"passengers\"]\n",
    "    .sum()\n",
    "    .sort_values(\"passengers\", ascending=False)\n",
    ")\n",
    "display(agg_line_full)\n",
    "\n",
    "# Tendencia mensual por línea\n",
    "trend_full = (\n",
    "    mol_full\n",
    "    .dropna(subset=[\"year_month\",\"line\",\"passengers\"])\n",
    "    .groupby([\"year_month\",\"line\"], as_index=False)[\"passengers\"]\n",
    "    .sum()\n",
    "    .sort_values([\"year_month\",\"line\"])\n",
    ")\n",
    "display(trend_full.head(18))  # primeras 18 filas para inspección\n"
   ]
  },
  {
   "cell_type": "code",
   "execution_count": 6,
   "id": "7f89735e",
   "metadata": {},
   "outputs": [
    {
     "data": {
      "application/vnd.plotly.v1+json": {
       "config": {
        "plotlyServerURL": "https://plot.ly"
       },
       "data": [
        {
         "alignmentgroup": "True",
         "hovertemplate": "Line=%{x}<br>Passengers=%{text}<extra></extra>",
         "legendgroup": "",
         "marker": {
          "color": "#636efa",
          "pattern": {
           "shape": ""
          }
         },
         "name": "",
         "offsetgroup": "",
         "orientation": "v",
         "showlegend": false,
         "text": [
          50423199,
          41170071,
          34606264,
          32528567,
          22606254,
          20052333
         ],
         "textposition": "outside",
         "texttemplate": "%{text:,.0f}",
         "type": "bar",
         "x": [
          "B",
          "A",
          "D",
          "C",
          "H",
          "E"
         ],
         "xaxis": "x",
         "y": [
          50423199,
          41170071,
          34606264,
          32528567,
          22606254,
          20052333
         ],
         "yaxis": "y"
        }
       ],
       "layout": {
        "barmode": "relative",
        "legend": {
         "tracegroupgap": 0
        },
        "template": {
         "data": {
          "bar": [
           {
            "error_x": {
             "color": "#2a3f5f"
            },
            "error_y": {
             "color": "#2a3f5f"
            },
            "marker": {
             "line": {
              "color": "#E5ECF6",
              "width": 0.5
             },
             "pattern": {
              "fillmode": "overlay",
              "size": 10,
              "solidity": 0.2
             }
            },
            "type": "bar"
           }
          ],
          "barpolar": [
           {
            "marker": {
             "line": {
              "color": "#E5ECF6",
              "width": 0.5
             },
             "pattern": {
              "fillmode": "overlay",
              "size": 10,
              "solidity": 0.2
             }
            },
            "type": "barpolar"
           }
          ],
          "carpet": [
           {
            "aaxis": {
             "endlinecolor": "#2a3f5f",
             "gridcolor": "white",
             "linecolor": "white",
             "minorgridcolor": "white",
             "startlinecolor": "#2a3f5f"
            },
            "baxis": {
             "endlinecolor": "#2a3f5f",
             "gridcolor": "white",
             "linecolor": "white",
             "minorgridcolor": "white",
             "startlinecolor": "#2a3f5f"
            },
            "type": "carpet"
           }
          ],
          "choropleth": [
           {
            "colorbar": {
             "outlinewidth": 0,
             "ticks": ""
            },
            "type": "choropleth"
           }
          ],
          "contour": [
           {
            "colorbar": {
             "outlinewidth": 0,
             "ticks": ""
            },
            "colorscale": [
             [
              0,
              "#0d0887"
             ],
             [
              0.1111111111111111,
              "#46039f"
             ],
             [
              0.2222222222222222,
              "#7201a8"
             ],
             [
              0.3333333333333333,
              "#9c179e"
             ],
             [
              0.4444444444444444,
              "#bd3786"
             ],
             [
              0.5555555555555556,
              "#d8576b"
             ],
             [
              0.6666666666666666,
              "#ed7953"
             ],
             [
              0.7777777777777778,
              "#fb9f3a"
             ],
             [
              0.8888888888888888,
              "#fdca26"
             ],
             [
              1,
              "#f0f921"
             ]
            ],
            "type": "contour"
           }
          ],
          "contourcarpet": [
           {
            "colorbar": {
             "outlinewidth": 0,
             "ticks": ""
            },
            "type": "contourcarpet"
           }
          ],
          "heatmap": [
           {
            "colorbar": {
             "outlinewidth": 0,
             "ticks": ""
            },
            "colorscale": [
             [
              0,
              "#0d0887"
             ],
             [
              0.1111111111111111,
              "#46039f"
             ],
             [
              0.2222222222222222,
              "#7201a8"
             ],
             [
              0.3333333333333333,
              "#9c179e"
             ],
             [
              0.4444444444444444,
              "#bd3786"
             ],
             [
              0.5555555555555556,
              "#d8576b"
             ],
             [
              0.6666666666666666,
              "#ed7953"
             ],
             [
              0.7777777777777778,
              "#fb9f3a"
             ],
             [
              0.8888888888888888,
              "#fdca26"
             ],
             [
              1,
              "#f0f921"
             ]
            ],
            "type": "heatmap"
           }
          ],
          "heatmapgl": [
           {
            "colorbar": {
             "outlinewidth": 0,
             "ticks": ""
            },
            "colorscale": [
             [
              0,
              "#0d0887"
             ],
             [
              0.1111111111111111,
              "#46039f"
             ],
             [
              0.2222222222222222,
              "#7201a8"
             ],
             [
              0.3333333333333333,
              "#9c179e"
             ],
             [
              0.4444444444444444,
              "#bd3786"
             ],
             [
              0.5555555555555556,
              "#d8576b"
             ],
             [
              0.6666666666666666,
              "#ed7953"
             ],
             [
              0.7777777777777778,
              "#fb9f3a"
             ],
             [
              0.8888888888888888,
              "#fdca26"
             ],
             [
              1,
              "#f0f921"
             ]
            ],
            "type": "heatmapgl"
           }
          ],
          "histogram": [
           {
            "marker": {
             "pattern": {
              "fillmode": "overlay",
              "size": 10,
              "solidity": 0.2
             }
            },
            "type": "histogram"
           }
          ],
          "histogram2d": [
           {
            "colorbar": {
             "outlinewidth": 0,
             "ticks": ""
            },
            "colorscale": [
             [
              0,
              "#0d0887"
             ],
             [
              0.1111111111111111,
              "#46039f"
             ],
             [
              0.2222222222222222,
              "#7201a8"
             ],
             [
              0.3333333333333333,
              "#9c179e"
             ],
             [
              0.4444444444444444,
              "#bd3786"
             ],
             [
              0.5555555555555556,
              "#d8576b"
             ],
             [
              0.6666666666666666,
              "#ed7953"
             ],
             [
              0.7777777777777778,
              "#fb9f3a"
             ],
             [
              0.8888888888888888,
              "#fdca26"
             ],
             [
              1,
              "#f0f921"
             ]
            ],
            "type": "histogram2d"
           }
          ],
          "histogram2dcontour": [
           {
            "colorbar": {
             "outlinewidth": 0,
             "ticks": ""
            },
            "colorscale": [
             [
              0,
              "#0d0887"
             ],
             [
              0.1111111111111111,
              "#46039f"
             ],
             [
              0.2222222222222222,
              "#7201a8"
             ],
             [
              0.3333333333333333,
              "#9c179e"
             ],
             [
              0.4444444444444444,
              "#bd3786"
             ],
             [
              0.5555555555555556,
              "#d8576b"
             ],
             [
              0.6666666666666666,
              "#ed7953"
             ],
             [
              0.7777777777777778,
              "#fb9f3a"
             ],
             [
              0.8888888888888888,
              "#fdca26"
             ],
             [
              1,
              "#f0f921"
             ]
            ],
            "type": "histogram2dcontour"
           }
          ],
          "mesh3d": [
           {
            "colorbar": {
             "outlinewidth": 0,
             "ticks": ""
            },
            "type": "mesh3d"
           }
          ],
          "parcoords": [
           {
            "line": {
             "colorbar": {
              "outlinewidth": 0,
              "ticks": ""
             }
            },
            "type": "parcoords"
           }
          ],
          "pie": [
           {
            "automargin": true,
            "type": "pie"
           }
          ],
          "scatter": [
           {
            "fillpattern": {
             "fillmode": "overlay",
             "size": 10,
             "solidity": 0.2
            },
            "type": "scatter"
           }
          ],
          "scatter3d": [
           {
            "line": {
             "colorbar": {
              "outlinewidth": 0,
              "ticks": ""
             }
            },
            "marker": {
             "colorbar": {
              "outlinewidth": 0,
              "ticks": ""
             }
            },
            "type": "scatter3d"
           }
          ],
          "scattercarpet": [
           {
            "marker": {
             "colorbar": {
              "outlinewidth": 0,
              "ticks": ""
             }
            },
            "type": "scattercarpet"
           }
          ],
          "scattergeo": [
           {
            "marker": {
             "colorbar": {
              "outlinewidth": 0,
              "ticks": ""
             }
            },
            "type": "scattergeo"
           }
          ],
          "scattergl": [
           {
            "marker": {
             "colorbar": {
              "outlinewidth": 0,
              "ticks": ""
             }
            },
            "type": "scattergl"
           }
          ],
          "scattermapbox": [
           {
            "marker": {
             "colorbar": {
              "outlinewidth": 0,
              "ticks": ""
             }
            },
            "type": "scattermapbox"
           }
          ],
          "scatterpolar": [
           {
            "marker": {
             "colorbar": {
              "outlinewidth": 0,
              "ticks": ""
             }
            },
            "type": "scatterpolar"
           }
          ],
          "scatterpolargl": [
           {
            "marker": {
             "colorbar": {
              "outlinewidth": 0,
              "ticks": ""
             }
            },
            "type": "scatterpolargl"
           }
          ],
          "scatterternary": [
           {
            "marker": {
             "colorbar": {
              "outlinewidth": 0,
              "ticks": ""
             }
            },
            "type": "scatterternary"
           }
          ],
          "surface": [
           {
            "colorbar": {
             "outlinewidth": 0,
             "ticks": ""
            },
            "colorscale": [
             [
              0,
              "#0d0887"
             ],
             [
              0.1111111111111111,
              "#46039f"
             ],
             [
              0.2222222222222222,
              "#7201a8"
             ],
             [
              0.3333333333333333,
              "#9c179e"
             ],
             [
              0.4444444444444444,
              "#bd3786"
             ],
             [
              0.5555555555555556,
              "#d8576b"
             ],
             [
              0.6666666666666666,
              "#ed7953"
             ],
             [
              0.7777777777777778,
              "#fb9f3a"
             ],
             [
              0.8888888888888888,
              "#fdca26"
             ],
             [
              1,
              "#f0f921"
             ]
            ],
            "type": "surface"
           }
          ],
          "table": [
           {
            "cells": {
             "fill": {
              "color": "#EBF0F8"
             },
             "line": {
              "color": "white"
             }
            },
            "header": {
             "fill": {
              "color": "#C8D4E3"
             },
             "line": {
              "color": "white"
             }
            },
            "type": "table"
           }
          ]
         },
         "layout": {
          "annotationdefaults": {
           "arrowcolor": "#2a3f5f",
           "arrowhead": 0,
           "arrowwidth": 1
          },
          "autotypenumbers": "strict",
          "coloraxis": {
           "colorbar": {
            "outlinewidth": 0,
            "ticks": ""
           }
          },
          "colorscale": {
           "diverging": [
            [
             0,
             "#8e0152"
            ],
            [
             0.1,
             "#c51b7d"
            ],
            [
             0.2,
             "#de77ae"
            ],
            [
             0.3,
             "#f1b6da"
            ],
            [
             0.4,
             "#fde0ef"
            ],
            [
             0.5,
             "#f7f7f7"
            ],
            [
             0.6,
             "#e6f5d0"
            ],
            [
             0.7,
             "#b8e186"
            ],
            [
             0.8,
             "#7fbc41"
            ],
            [
             0.9,
             "#4d9221"
            ],
            [
             1,
             "#276419"
            ]
           ],
           "sequential": [
            [
             0,
             "#0d0887"
            ],
            [
             0.1111111111111111,
             "#46039f"
            ],
            [
             0.2222222222222222,
             "#7201a8"
            ],
            [
             0.3333333333333333,
             "#9c179e"
            ],
            [
             0.4444444444444444,
             "#bd3786"
            ],
            [
             0.5555555555555556,
             "#d8576b"
            ],
            [
             0.6666666666666666,
             "#ed7953"
            ],
            [
             0.7777777777777778,
             "#fb9f3a"
            ],
            [
             0.8888888888888888,
             "#fdca26"
            ],
            [
             1,
             "#f0f921"
            ]
           ],
           "sequentialminus": [
            [
             0,
             "#0d0887"
            ],
            [
             0.1111111111111111,
             "#46039f"
            ],
            [
             0.2222222222222222,
             "#7201a8"
            ],
            [
             0.3333333333333333,
             "#9c179e"
            ],
            [
             0.4444444444444444,
             "#bd3786"
            ],
            [
             0.5555555555555556,
             "#d8576b"
            ],
            [
             0.6666666666666666,
             "#ed7953"
            ],
            [
             0.7777777777777778,
             "#fb9f3a"
            ],
            [
             0.8888888888888888,
             "#fdca26"
            ],
            [
             1,
             "#f0f921"
            ]
           ]
          },
          "colorway": [
           "#636efa",
           "#EF553B",
           "#00cc96",
           "#ab63fa",
           "#FFA15A",
           "#19d3f3",
           "#FF6692",
           "#B6E880",
           "#FF97FF",
           "#FECB52"
          ],
          "font": {
           "color": "#2a3f5f"
          },
          "geo": {
           "bgcolor": "white",
           "lakecolor": "white",
           "landcolor": "#E5ECF6",
           "showlakes": true,
           "showland": true,
           "subunitcolor": "white"
          },
          "hoverlabel": {
           "align": "left"
          },
          "hovermode": "closest",
          "mapbox": {
           "style": "light"
          },
          "paper_bgcolor": "white",
          "plot_bgcolor": "#E5ECF6",
          "polar": {
           "angularaxis": {
            "gridcolor": "white",
            "linecolor": "white",
            "ticks": ""
           },
           "bgcolor": "#E5ECF6",
           "radialaxis": {
            "gridcolor": "white",
            "linecolor": "white",
            "ticks": ""
           }
          },
          "scene": {
           "xaxis": {
            "backgroundcolor": "#E5ECF6",
            "gridcolor": "white",
            "gridwidth": 2,
            "linecolor": "white",
            "showbackground": true,
            "ticks": "",
            "zerolinecolor": "white"
           },
           "yaxis": {
            "backgroundcolor": "#E5ECF6",
            "gridcolor": "white",
            "gridwidth": 2,
            "linecolor": "white",
            "showbackground": true,
            "ticks": "",
            "zerolinecolor": "white"
           },
           "zaxis": {
            "backgroundcolor": "#E5ECF6",
            "gridcolor": "white",
            "gridwidth": 2,
            "linecolor": "white",
            "showbackground": true,
            "ticks": "",
            "zerolinecolor": "white"
           }
          },
          "shapedefaults": {
           "line": {
            "color": "#2a3f5f"
           }
          },
          "ternary": {
           "aaxis": {
            "gridcolor": "white",
            "linecolor": "white",
            "ticks": ""
           },
           "baxis": {
            "gridcolor": "white",
            "linecolor": "white",
            "ticks": ""
           },
           "bgcolor": "#E5ECF6",
           "caxis": {
            "gridcolor": "white",
            "linecolor": "white",
            "ticks": ""
           }
          },
          "title": {
           "x": 0.05
          },
          "xaxis": {
           "automargin": true,
           "gridcolor": "white",
           "linecolor": "white",
           "ticks": "",
           "title": {
            "standoff": 15
           },
           "zerolinecolor": "white",
           "zerolinewidth": 2
          },
          "yaxis": {
           "automargin": true,
           "gridcolor": "white",
           "linecolor": "white",
           "ticks": "",
           "title": {
            "standoff": 15
           },
           "zerolinecolor": "white",
           "zerolinewidth": 2
          }
         }
        },
        "title": {
         "text": "Total Passengers by Subway Line (2024)"
        },
        "uniformtext": {
         "minsize": 8,
         "mode": "hide"
        },
        "xaxis": {
         "anchor": "y",
         "domain": [
          0,
          1
         ],
         "title": {
          "text": "Line"
         }
        },
        "yaxis": {
         "anchor": "x",
         "domain": [
          0,
          1
         ],
         "title": {
          "text": "Passengers"
         }
        }
       }
      }
     },
     "metadata": {},
     "output_type": "display_data"
    },
    {
     "data": {
      "application/vnd.plotly.v1+json": {
       "config": {
        "plotlyServerURL": "https://plot.ly"
       },
       "data": [
        {
         "hovertemplate": "line=A<br>Year-Month=%{x}<br>Passengers=%{y}<extra></extra>",
         "legendgroup": "A",
         "line": {
          "color": "#636efa",
          "dash": "solid"
         },
         "marker": {
          "symbol": "circle"
         },
         "mode": "lines+markers",
         "name": "A",
         "orientation": "v",
         "showlegend": true,
         "type": "scatter",
         "x": [
          "2024-01",
          "2024-02",
          "2024-03",
          "2024-04",
          "2024-05",
          "2024-06",
          "2024-07",
          "2024-08",
          "2024-09",
          "2024-10",
          "2024-11",
          "2024-12"
         ],
         "xaxis": "x",
         "y": [
          3263982,
          3097299,
          3950494,
          3623002,
          3515283,
          2781744,
          3526024,
          3868498,
          3631906,
          3391679,
          3291053,
          3229107
         ],
         "yaxis": "y"
        },
        {
         "hovertemplate": "line=B<br>Year-Month=%{x}<br>Passengers=%{y}<extra></extra>",
         "legendgroup": "B",
         "line": {
          "color": "#EF553B",
          "dash": "solid"
         },
         "marker": {
          "symbol": "circle"
         },
         "mode": "lines+markers",
         "name": "B",
         "orientation": "v",
         "showlegend": true,
         "type": "scatter",
         "x": [
          "2024-01",
          "2024-02",
          "2024-03",
          "2024-04",
          "2024-05",
          "2024-06",
          "2024-07",
          "2024-08",
          "2024-09",
          "2024-10",
          "2024-11",
          "2024-12"
         ],
         "xaxis": "x",
         "y": [
          4239766,
          4060790,
          4895806,
          4143124,
          4104828,
          3302296,
          4342364,
          4710006,
          4565120,
          4093185,
          4022761,
          3943153
         ],
         "yaxis": "y"
        },
        {
         "hovertemplate": "line=C<br>Year-Month=%{x}<br>Passengers=%{y}<extra></extra>",
         "legendgroup": "C",
         "line": {
          "color": "#00cc96",
          "dash": "solid"
         },
         "marker": {
          "symbol": "circle"
         },
         "mode": "lines+markers",
         "name": "C",
         "orientation": "v",
         "showlegend": true,
         "type": "scatter",
         "x": [
          "2024-01",
          "2024-02",
          "2024-03",
          "2024-04",
          "2024-05",
          "2024-06",
          "2024-07",
          "2024-08",
          "2024-09",
          "2024-10",
          "2024-11",
          "2024-12"
         ],
         "xaxis": "x",
         "y": [
          2776085,
          2425315,
          3092070,
          2966780,
          2607845,
          2237000,
          2873513,
          3061583,
          2931597,
          2700873,
          2526342,
          2329564
         ],
         "yaxis": "y"
        },
        {
         "hovertemplate": "line=D<br>Year-Month=%{x}<br>Passengers=%{y}<extra></extra>",
         "legendgroup": "D",
         "line": {
          "color": "#ab63fa",
          "dash": "solid"
         },
         "marker": {
          "symbol": "circle"
         },
         "mode": "lines+markers",
         "name": "D",
         "orientation": "v",
         "showlegend": true,
         "type": "scatter",
         "x": [
          "2024-01",
          "2024-02",
          "2024-03",
          "2024-04",
          "2024-05",
          "2024-06",
          "2024-07",
          "2024-08",
          "2024-09",
          "2024-10",
          "2024-11",
          "2024-12"
         ],
         "xaxis": "x",
         "y": [
          605572,
          645,
          3012727,
          3664052,
          3493665,
          2638142,
          3640226,
          3831944,
          3867912,
          3483963,
          3398023,
          2969393
         ],
         "yaxis": "y"
        },
        {
         "hovertemplate": "line=E<br>Year-Month=%{x}<br>Passengers=%{y}<extra></extra>",
         "legendgroup": "E",
         "line": {
          "color": "#FFA15A",
          "dash": "solid"
         },
         "marker": {
          "symbol": "circle"
         },
         "mode": "lines+markers",
         "name": "E",
         "orientation": "v",
         "showlegend": true,
         "type": "scatter",
         "x": [
          "2024-01",
          "2024-02",
          "2024-03",
          "2024-04",
          "2024-05",
          "2024-06",
          "2024-07",
          "2024-08",
          "2024-09",
          "2024-10",
          "2024-11",
          "2024-12"
         ],
         "xaxis": "x",
         "y": [
          1411591,
          1400948,
          1934438,
          1891054,
          1819848,
          1367810,
          1597462,
          1887760,
          1888366,
          1749976,
          1676885,
          1426195
         ],
         "yaxis": "y"
        },
        {
         "hovertemplate": "line=H<br>Year-Month=%{x}<br>Passengers=%{y}<extra></extra>",
         "legendgroup": "H",
         "line": {
          "color": "#19d3f3",
          "dash": "solid"
         },
         "marker": {
          "symbol": "circle"
         },
         "mode": "lines+markers",
         "name": "H",
         "orientation": "v",
         "showlegend": true,
         "type": "scatter",
         "x": [
          "2024-01",
          "2024-02",
          "2024-03",
          "2024-04",
          "2024-05",
          "2024-06",
          "2024-07",
          "2024-08",
          "2024-09",
          "2024-10",
          "2024-11",
          "2024-12"
         ],
         "xaxis": "x",
         "y": [
          1659613,
          1645497,
          2220676,
          2064101,
          1930038,
          1520170,
          1943061,
          2083512,
          2297467,
          1809371,
          1782810,
          1649938
         ],
         "yaxis": "y"
        }
       ],
       "layout": {
        "legend": {
         "title": {
          "text": "line"
         },
         "tracegroupgap": 0
        },
        "template": {
         "data": {
          "bar": [
           {
            "error_x": {
             "color": "#2a3f5f"
            },
            "error_y": {
             "color": "#2a3f5f"
            },
            "marker": {
             "line": {
              "color": "#E5ECF6",
              "width": 0.5
             },
             "pattern": {
              "fillmode": "overlay",
              "size": 10,
              "solidity": 0.2
             }
            },
            "type": "bar"
           }
          ],
          "barpolar": [
           {
            "marker": {
             "line": {
              "color": "#E5ECF6",
              "width": 0.5
             },
             "pattern": {
              "fillmode": "overlay",
              "size": 10,
              "solidity": 0.2
             }
            },
            "type": "barpolar"
           }
          ],
          "carpet": [
           {
            "aaxis": {
             "endlinecolor": "#2a3f5f",
             "gridcolor": "white",
             "linecolor": "white",
             "minorgridcolor": "white",
             "startlinecolor": "#2a3f5f"
            },
            "baxis": {
             "endlinecolor": "#2a3f5f",
             "gridcolor": "white",
             "linecolor": "white",
             "minorgridcolor": "white",
             "startlinecolor": "#2a3f5f"
            },
            "type": "carpet"
           }
          ],
          "choropleth": [
           {
            "colorbar": {
             "outlinewidth": 0,
             "ticks": ""
            },
            "type": "choropleth"
           }
          ],
          "contour": [
           {
            "colorbar": {
             "outlinewidth": 0,
             "ticks": ""
            },
            "colorscale": [
             [
              0,
              "#0d0887"
             ],
             [
              0.1111111111111111,
              "#46039f"
             ],
             [
              0.2222222222222222,
              "#7201a8"
             ],
             [
              0.3333333333333333,
              "#9c179e"
             ],
             [
              0.4444444444444444,
              "#bd3786"
             ],
             [
              0.5555555555555556,
              "#d8576b"
             ],
             [
              0.6666666666666666,
              "#ed7953"
             ],
             [
              0.7777777777777778,
              "#fb9f3a"
             ],
             [
              0.8888888888888888,
              "#fdca26"
             ],
             [
              1,
              "#f0f921"
             ]
            ],
            "type": "contour"
           }
          ],
          "contourcarpet": [
           {
            "colorbar": {
             "outlinewidth": 0,
             "ticks": ""
            },
            "type": "contourcarpet"
           }
          ],
          "heatmap": [
           {
            "colorbar": {
             "outlinewidth": 0,
             "ticks": ""
            },
            "colorscale": [
             [
              0,
              "#0d0887"
             ],
             [
              0.1111111111111111,
              "#46039f"
             ],
             [
              0.2222222222222222,
              "#7201a8"
             ],
             [
              0.3333333333333333,
              "#9c179e"
             ],
             [
              0.4444444444444444,
              "#bd3786"
             ],
             [
              0.5555555555555556,
              "#d8576b"
             ],
             [
              0.6666666666666666,
              "#ed7953"
             ],
             [
              0.7777777777777778,
              "#fb9f3a"
             ],
             [
              0.8888888888888888,
              "#fdca26"
             ],
             [
              1,
              "#f0f921"
             ]
            ],
            "type": "heatmap"
           }
          ],
          "heatmapgl": [
           {
            "colorbar": {
             "outlinewidth": 0,
             "ticks": ""
            },
            "colorscale": [
             [
              0,
              "#0d0887"
             ],
             [
              0.1111111111111111,
              "#46039f"
             ],
             [
              0.2222222222222222,
              "#7201a8"
             ],
             [
              0.3333333333333333,
              "#9c179e"
             ],
             [
              0.4444444444444444,
              "#bd3786"
             ],
             [
              0.5555555555555556,
              "#d8576b"
             ],
             [
              0.6666666666666666,
              "#ed7953"
             ],
             [
              0.7777777777777778,
              "#fb9f3a"
             ],
             [
              0.8888888888888888,
              "#fdca26"
             ],
             [
              1,
              "#f0f921"
             ]
            ],
            "type": "heatmapgl"
           }
          ],
          "histogram": [
           {
            "marker": {
             "pattern": {
              "fillmode": "overlay",
              "size": 10,
              "solidity": 0.2
             }
            },
            "type": "histogram"
           }
          ],
          "histogram2d": [
           {
            "colorbar": {
             "outlinewidth": 0,
             "ticks": ""
            },
            "colorscale": [
             [
              0,
              "#0d0887"
             ],
             [
              0.1111111111111111,
              "#46039f"
             ],
             [
              0.2222222222222222,
              "#7201a8"
             ],
             [
              0.3333333333333333,
              "#9c179e"
             ],
             [
              0.4444444444444444,
              "#bd3786"
             ],
             [
              0.5555555555555556,
              "#d8576b"
             ],
             [
              0.6666666666666666,
              "#ed7953"
             ],
             [
              0.7777777777777778,
              "#fb9f3a"
             ],
             [
              0.8888888888888888,
              "#fdca26"
             ],
             [
              1,
              "#f0f921"
             ]
            ],
            "type": "histogram2d"
           }
          ],
          "histogram2dcontour": [
           {
            "colorbar": {
             "outlinewidth": 0,
             "ticks": ""
            },
            "colorscale": [
             [
              0,
              "#0d0887"
             ],
             [
              0.1111111111111111,
              "#46039f"
             ],
             [
              0.2222222222222222,
              "#7201a8"
             ],
             [
              0.3333333333333333,
              "#9c179e"
             ],
             [
              0.4444444444444444,
              "#bd3786"
             ],
             [
              0.5555555555555556,
              "#d8576b"
             ],
             [
              0.6666666666666666,
              "#ed7953"
             ],
             [
              0.7777777777777778,
              "#fb9f3a"
             ],
             [
              0.8888888888888888,
              "#fdca26"
             ],
             [
              1,
              "#f0f921"
             ]
            ],
            "type": "histogram2dcontour"
           }
          ],
          "mesh3d": [
           {
            "colorbar": {
             "outlinewidth": 0,
             "ticks": ""
            },
            "type": "mesh3d"
           }
          ],
          "parcoords": [
           {
            "line": {
             "colorbar": {
              "outlinewidth": 0,
              "ticks": ""
             }
            },
            "type": "parcoords"
           }
          ],
          "pie": [
           {
            "automargin": true,
            "type": "pie"
           }
          ],
          "scatter": [
           {
            "fillpattern": {
             "fillmode": "overlay",
             "size": 10,
             "solidity": 0.2
            },
            "type": "scatter"
           }
          ],
          "scatter3d": [
           {
            "line": {
             "colorbar": {
              "outlinewidth": 0,
              "ticks": ""
             }
            },
            "marker": {
             "colorbar": {
              "outlinewidth": 0,
              "ticks": ""
             }
            },
            "type": "scatter3d"
           }
          ],
          "scattercarpet": [
           {
            "marker": {
             "colorbar": {
              "outlinewidth": 0,
              "ticks": ""
             }
            },
            "type": "scattercarpet"
           }
          ],
          "scattergeo": [
           {
            "marker": {
             "colorbar": {
              "outlinewidth": 0,
              "ticks": ""
             }
            },
            "type": "scattergeo"
           }
          ],
          "scattergl": [
           {
            "marker": {
             "colorbar": {
              "outlinewidth": 0,
              "ticks": ""
             }
            },
            "type": "scattergl"
           }
          ],
          "scattermapbox": [
           {
            "marker": {
             "colorbar": {
              "outlinewidth": 0,
              "ticks": ""
             }
            },
            "type": "scattermapbox"
           }
          ],
          "scatterpolar": [
           {
            "marker": {
             "colorbar": {
              "outlinewidth": 0,
              "ticks": ""
             }
            },
            "type": "scatterpolar"
           }
          ],
          "scatterpolargl": [
           {
            "marker": {
             "colorbar": {
              "outlinewidth": 0,
              "ticks": ""
             }
            },
            "type": "scatterpolargl"
           }
          ],
          "scatterternary": [
           {
            "marker": {
             "colorbar": {
              "outlinewidth": 0,
              "ticks": ""
             }
            },
            "type": "scatterternary"
           }
          ],
          "surface": [
           {
            "colorbar": {
             "outlinewidth": 0,
             "ticks": ""
            },
            "colorscale": [
             [
              0,
              "#0d0887"
             ],
             [
              0.1111111111111111,
              "#46039f"
             ],
             [
              0.2222222222222222,
              "#7201a8"
             ],
             [
              0.3333333333333333,
              "#9c179e"
             ],
             [
              0.4444444444444444,
              "#bd3786"
             ],
             [
              0.5555555555555556,
              "#d8576b"
             ],
             [
              0.6666666666666666,
              "#ed7953"
             ],
             [
              0.7777777777777778,
              "#fb9f3a"
             ],
             [
              0.8888888888888888,
              "#fdca26"
             ],
             [
              1,
              "#f0f921"
             ]
            ],
            "type": "surface"
           }
          ],
          "table": [
           {
            "cells": {
             "fill": {
              "color": "#EBF0F8"
             },
             "line": {
              "color": "white"
             }
            },
            "header": {
             "fill": {
              "color": "#C8D4E3"
             },
             "line": {
              "color": "white"
             }
            },
            "type": "table"
           }
          ]
         },
         "layout": {
          "annotationdefaults": {
           "arrowcolor": "#2a3f5f",
           "arrowhead": 0,
           "arrowwidth": 1
          },
          "autotypenumbers": "strict",
          "coloraxis": {
           "colorbar": {
            "outlinewidth": 0,
            "ticks": ""
           }
          },
          "colorscale": {
           "diverging": [
            [
             0,
             "#8e0152"
            ],
            [
             0.1,
             "#c51b7d"
            ],
            [
             0.2,
             "#de77ae"
            ],
            [
             0.3,
             "#f1b6da"
            ],
            [
             0.4,
             "#fde0ef"
            ],
            [
             0.5,
             "#f7f7f7"
            ],
            [
             0.6,
             "#e6f5d0"
            ],
            [
             0.7,
             "#b8e186"
            ],
            [
             0.8,
             "#7fbc41"
            ],
            [
             0.9,
             "#4d9221"
            ],
            [
             1,
             "#276419"
            ]
           ],
           "sequential": [
            [
             0,
             "#0d0887"
            ],
            [
             0.1111111111111111,
             "#46039f"
            ],
            [
             0.2222222222222222,
             "#7201a8"
            ],
            [
             0.3333333333333333,
             "#9c179e"
            ],
            [
             0.4444444444444444,
             "#bd3786"
            ],
            [
             0.5555555555555556,
             "#d8576b"
            ],
            [
             0.6666666666666666,
             "#ed7953"
            ],
            [
             0.7777777777777778,
             "#fb9f3a"
            ],
            [
             0.8888888888888888,
             "#fdca26"
            ],
            [
             1,
             "#f0f921"
            ]
           ],
           "sequentialminus": [
            [
             0,
             "#0d0887"
            ],
            [
             0.1111111111111111,
             "#46039f"
            ],
            [
             0.2222222222222222,
             "#7201a8"
            ],
            [
             0.3333333333333333,
             "#9c179e"
            ],
            [
             0.4444444444444444,
             "#bd3786"
            ],
            [
             0.5555555555555556,
             "#d8576b"
            ],
            [
             0.6666666666666666,
             "#ed7953"
            ],
            [
             0.7777777777777778,
             "#fb9f3a"
            ],
            [
             0.8888888888888888,
             "#fdca26"
            ],
            [
             1,
             "#f0f921"
            ]
           ]
          },
          "colorway": [
           "#636efa",
           "#EF553B",
           "#00cc96",
           "#ab63fa",
           "#FFA15A",
           "#19d3f3",
           "#FF6692",
           "#B6E880",
           "#FF97FF",
           "#FECB52"
          ],
          "font": {
           "color": "#2a3f5f"
          },
          "geo": {
           "bgcolor": "white",
           "lakecolor": "white",
           "landcolor": "#E5ECF6",
           "showlakes": true,
           "showland": true,
           "subunitcolor": "white"
          },
          "hoverlabel": {
           "align": "left"
          },
          "hovermode": "closest",
          "mapbox": {
           "style": "light"
          },
          "paper_bgcolor": "white",
          "plot_bgcolor": "#E5ECF6",
          "polar": {
           "angularaxis": {
            "gridcolor": "white",
            "linecolor": "white",
            "ticks": ""
           },
           "bgcolor": "#E5ECF6",
           "radialaxis": {
            "gridcolor": "white",
            "linecolor": "white",
            "ticks": ""
           }
          },
          "scene": {
           "xaxis": {
            "backgroundcolor": "#E5ECF6",
            "gridcolor": "white",
            "gridwidth": 2,
            "linecolor": "white",
            "showbackground": true,
            "ticks": "",
            "zerolinecolor": "white"
           },
           "yaxis": {
            "backgroundcolor": "#E5ECF6",
            "gridcolor": "white",
            "gridwidth": 2,
            "linecolor": "white",
            "showbackground": true,
            "ticks": "",
            "zerolinecolor": "white"
           },
           "zaxis": {
            "backgroundcolor": "#E5ECF6",
            "gridcolor": "white",
            "gridwidth": 2,
            "linecolor": "white",
            "showbackground": true,
            "ticks": "",
            "zerolinecolor": "white"
           }
          },
          "shapedefaults": {
           "line": {
            "color": "#2a3f5f"
           }
          },
          "ternary": {
           "aaxis": {
            "gridcolor": "white",
            "linecolor": "white",
            "ticks": ""
           },
           "baxis": {
            "gridcolor": "white",
            "linecolor": "white",
            "ticks": ""
           },
           "bgcolor": "#E5ECF6",
           "caxis": {
            "gridcolor": "white",
            "linecolor": "white",
            "ticks": ""
           }
          },
          "title": {
           "x": 0.05
          },
          "xaxis": {
           "automargin": true,
           "gridcolor": "white",
           "linecolor": "white",
           "ticks": "",
           "title": {
            "standoff": 15
           },
           "zerolinecolor": "white",
           "zerolinewidth": 2
          },
          "yaxis": {
           "automargin": true,
           "gridcolor": "white",
           "linecolor": "white",
           "ticks": "",
           "title": {
            "standoff": 15
           },
           "zerolinecolor": "white",
           "zerolinewidth": 2
          }
         }
        },
        "title": {
         "text": "Monthly Demand by Line (2024)"
        },
        "xaxis": {
         "anchor": "y",
         "domain": [
          0,
          1
         ],
         "tickangle": -45,
         "title": {
          "text": "Year-Month"
         }
        },
        "yaxis": {
         "anchor": "x",
         "domain": [
          0,
          1
         ],
         "title": {
          "text": "Passengers"
         }
        }
       }
      }
     },
     "metadata": {},
     "output_type": "display_data"
    },
    {
     "name": "stdout",
     "output_type": "stream",
     "text": [
      "Charts saved in: c:\\Users\\do_ch\\OneDrive\\Escritorio\\Proyectos\\Proyectos GitHub\\subte-dashboard\\data\\processed\n"
     ]
    }
   ],
   "source": [
    "# === Block 6 (Lean): Visualizations + Export ===\n",
    "import os\n",
    "import plotly.express as px\n",
    "\n",
    "# Si abriste el notebook “en frío”, recalcular agregados rápido:\n",
    "if \"agg_line_full\" not in globals() or \"trend_full\" not in globals():\n",
    "    agg_line_full = (\n",
    "        mol_full.groupby(\"line\", as_index=False)[\"passengers\"]\n",
    "        .sum()\n",
    "        .sort_values(\"passengers\", ascending=False)\n",
    "    )\n",
    "    trend_full = (\n",
    "        mol_full.groupby([\"year_month\", \"line\"], as_index=False)[\"passengers\"]\n",
    "        .sum()\n",
    "        .sort_values([\"year_month\", \"line\"])\n",
    "    )\n",
    "\n",
    "# 1) Barras: total por línea\n",
    "fig_bar = px.bar(\n",
    "    agg_line_full,\n",
    "    x=\"line\", y=\"passengers\", text=\"passengers\",\n",
    "    title=\"Total Passengers by Subway Line (2024)\",\n",
    "    labels={\"line\": \"Line\", \"passengers\": \"Passengers\"},\n",
    ")\n",
    "fig_bar.update_traces(texttemplate='%{text:,.0f}', textposition='outside')\n",
    "fig_bar.update_layout(uniformtext_minsize=8, uniformtext_mode='hide')\n",
    "fig_bar.show()\n",
    "\n",
    "# 2) Líneas: tendencia mensual por línea\n",
    "fig_line = px.line(\n",
    "    trend_full,\n",
    "    x=\"year_month\", y=\"passengers\", color=\"line\", markers=True,\n",
    "    title=\"Monthly Demand by Line (2024)\",\n",
    "    labels={\"year_month\": \"Year-Month\", \"passengers\": \"Passengers\"},\n",
    ")\n",
    "fig_line.update_traces(mode=\"lines+markers\")\n",
    "fig_line.update_layout(xaxis_tickangle=-45)\n",
    "fig_line.show()\n",
    "\n",
    "# 3) Export (Kaleido)\n",
    "bar_path  = os.path.join(PROC_DIR, \"bar_passengers_by_line.png\")\n",
    "line_path = os.path.join(PROC_DIR, \"line_trend_by_line.png\")\n",
    "fig_bar.write_image(bar_path,  scale=2)\n",
    "fig_line.write_image(line_path, scale=2)\n",
    "print(\"Charts saved in:\", PROC_DIR)\n"
   ]
  },
  {
   "cell_type": "markdown",
   "id": "7265f722",
   "metadata": {},
   "source": [
    "📌 Note / Nota\n",
    "\n",
    "EN:\n",
    "Below is a self-contained version of Block 6.\n",
    "It re-loads and re-processes all raw CSVs (~11.4M rows), so it takes much longer to run.\n",
    "👉 You don’t need to execute it to reproduce the results shown in the screenshot or the exported PNGs (bar_passengers_by_line.png, line_trend_by_line.png).\n",
    "Use this block only if you want to run the notebook independently from scratch without relying on previous blocks.\n",
    "\n",
    "ES:\n",
    "Aquí debajo está la versión autocontenida del Bloque 6.\n",
    "Esta versión vuelve a cargar y procesar todos los CSV crudos (~11,4M de filas), por lo que tarda mucho más en ejecutarse.\n",
    "👉 No es necesario ejecutarla para ver los resultados mostrados en la captura o en los PNG exportados (bar_passengers_by_line.png, line_trend_by_line.png).\n",
    "Utilízala solo si deseas ejecutar el notebook de manera independiente desde cero, sin depender de los bloques previos."
   ]
  },
  {
   "cell_type": "code",
   "execution_count": null,
   "id": "a1a952ba",
   "metadata": {},
   "outputs": [],
   "source": [
    "# === Block 6 (Self-contained): Load + Normalize + Aggregate + Visualize + Export ===\n",
    "import os, re, csv, glob\n",
    "import pandas as pd\n",
    "import plotly.express as px\n",
    "\n",
    "# Paths\n",
    "BASE_DIR = os.path.abspath(\"..\")\n",
    "RAW_DIR  = os.path.join(BASE_DIR, \"data\", \"raw\")\n",
    "PROC_DIR = os.path.join(BASE_DIR, \"data\", \"processed\")\n",
    "MOL_DIR  = os.path.join(RAW_DIR, \"molinetes\")\n",
    "os.makedirs(PROC_DIR, exist_ok=True)\n",
    "\n",
    "# Config\n",
    "SEP = \";\"\n",
    "ENC_LIST = [\"utf-8-sig\", \"utf-8\", \"latin1\", \"cp1252\"]\n",
    "\n",
    "def normalize_token(s: str) -> str:\n",
    "    s = (s or \"\").strip().strip('\"').strip()\n",
    "    s = re.sub(r\"\\s+\", \"_\", s)\n",
    "    return s.lower() or \"col\"\n",
    "\n",
    "def make_unique(cols):\n",
    "    seen = {}\n",
    "    out = []\n",
    "    for c in cols:\n",
    "        base = normalize_token(c)\n",
    "        seen[base] = seen.get(base, 0) + 1\n",
    "        out.append(base if seen[base] == 1 else f\"{base}_{seen[base]-1}\")\n",
    "    return out\n",
    "\n",
    "def read_header_names(path, enc_list=ENC_LIST, sep=SEP):\n",
    "    for enc in enc_list:\n",
    "        try:\n",
    "            with open(path, \"r\", encoding=enc, errors=\"strict\") as f:\n",
    "                first_line = f.readline().rstrip(\"\\n\\r\")\n",
    "            if first_line.startswith('\"') and first_line.endswith('\"'):\n",
    "                first_line = first_line[1:-1]\n",
    "            return make_unique(first_line.split(sep))\n",
    "        except Exception:\n",
    "            continue\n",
    "    with open(path, \"r\", encoding=\"utf-8\", errors=\"replace\") as f:\n",
    "        first_line = f.readline().rstrip(\"\\n\\r\")\n",
    "    if first_line.startswith('\"') and first_line.endswith('\"'):\n",
    "        first_line = first_line[1:-1]\n",
    "    return make_unique(first_line.split(sep))\n",
    "\n",
    "def read_molinetes_quoted(path, enc_list=ENC_LIST, sep=SEP):\n",
    "    cols = read_header_names(path, enc_list=enc_list, sep=sep)\n",
    "    for enc in enc_list:\n",
    "        try:\n",
    "            df = pd.read_csv(\n",
    "                path, sep=sep, encoding=enc, engine=\"python\",\n",
    "                header=None, names=cols, quoting=csv.QUOTE_NONE, on_bad_lines=\"skip\",\n",
    "            )\n",
    "            for c in df.select_dtypes(include=\"object\").columns:\n",
    "                df[c] = df[c].astype(str).str.strip('\"').str.strip()\n",
    "            return df\n",
    "        except Exception:\n",
    "            continue\n",
    "    # Fallback final\n",
    "    df = pd.read_csv(\n",
    "        path, sep=sep, encoding=\"utf-8\", encoding_errors=\"replace\",\n",
    "        engine=\"python\", header=None, names=cols, quoting=csv.QUOTE_NONE, on_bad_lines=\"skip\",\n",
    "    )\n",
    "    for c in df.select_dtypes(include=\"object\").columns:\n",
    "        df[c] = df[c].astype(str).str.strip('\"').str.strip()\n",
    "    return df\n",
    "\n",
    "# 1) Load all CSVs\n",
    "csvs = sorted(glob.glob(os.path.join(MOL_DIR, \"*.csv\")))\n",
    "assert csvs, f\"No se hallaron CSV en {MOL_DIR}\"\n",
    "df_list = []\n",
    "for p in csvs:\n",
    "    df = read_molinetes_quoted(p)\n",
    "    df[\"source_file\"] = os.path.basename(p)\n",
    "    df_list.append(df)\n",
    "mol_full = pd.concat(df_list, ignore_index=True)\n",
    "mol_full.columns = [c.strip().lower() for c in mol_full.columns]\n",
    "\n",
    "# 2) Normalize fields\n",
    "if \"fecha\" in mol_full.columns:\n",
    "    mol_full[\"date\"] = pd.to_datetime(mol_full[\"fecha\"], errors=\"coerce\", dayfirst=True)\n",
    "else:\n",
    "    mol_full[\"date\"] = pd.to_datetime(mol_full.get(\"date\"), errors=\"coerce\", dayfirst=True)\n",
    "mol_full[\"year_month\"] = mol_full[\"date\"].dt.to_period(\"M\").astype(str)\n",
    "\n",
    "mol_full[\"line\"] = mol_full.get(\"linea\", mol_full.get(\"line\", \"\")).astype(str)\n",
    "mol_full[\"line\"] = (mol_full[\"line\"].str.upper()\n",
    "                    .str.replace(r\"^LINEA\\s*\", \"\", regex=True)\n",
    "                    .str.strip())\n",
    "mol_full[\"station\"] = mol_full.get(\"estacion\", mol_full.get(\"station\", \"\")).astype(str).str.upper().str.strip()\n",
    "\n",
    "if \"pax_total\" in mol_full.columns:\n",
    "    mol_full[\"passengers\"] = pd.to_numeric(mol_full[\"pax_total\"], errors=\"coerce\")\n",
    "elif \"passengers\" in mol_full.columns:\n",
    "    mol_full[\"passengers\"] = pd.to_numeric(mol_full[\"passengers\"], errors=\"coerce\")\n",
    "else:\n",
    "    parts = [c for c in [\"pax_pagos\",\"pax_pases_pagos\",\"pax_franq\"] if c in mol_full.columns]\n",
    "    if parts:\n",
    "        mol_full[\"passengers\"] = pd.to_numeric(mol_full[parts].sum(axis=1), errors=\"coerce\")\n",
    "    else:\n",
    "        raise RuntimeError(\"No encontré columna de pasajeros.\")\n",
    "\n",
    "# 3) Aggregates\n",
    "agg_line_full = (\n",
    "    mol_full.groupby(\"line\", as_index=False)[\"passengers\"]\n",
    "    .sum()\n",
    "    .sort_values(\"passengers\", ascending=False)\n",
    ")\n",
    "trend_full = (\n",
    "    mol_full.groupby([\"year_month\", \"line\"], as_index=False)[\"passengers\"]\n",
    "    .sum()\n",
    "    .sort_values([\"year_month\", \"line\"])\n",
    ")\n",
    "\n",
    "# 4) Visuals\n",
    "fig_bar = px.bar(\n",
    "    agg_line_full, x=\"line\", y=\"passengers\", text=\"passengers\",\n",
    "    title=\"Total Passengers by Subway Line (2024)\",\n",
    "    labels={\"line\": \"Line\", \"passengers\": \"Passengers\"},\n",
    ")\n",
    "fig_bar.update_traces(texttemplate='%{text:,.0f}', textposition='outside')\n",
    "fig_bar.update_layout(uniformtext_minsize=8, uniformtext_mode='hide')\n",
    "fig_bar.show()\n",
    "\n",
    "fig_line = px.line(\n",
    "    trend_full, x=\"year_month\", y=\"passengers\", color=\"line\", markers=True,\n",
    "    title=\"Monthly Demand by Line (2024)\",\n",
    "    labels={\"year_month\": \"Year-Month\", \"passengers\": \"Passengers\"},\n",
    ")\n",
    "fig_line.update_traces(mode=\"lines+markers\")\n",
    "fig_line.update_layout(xaxis_tickangle=-45)\n",
    "fig_line.show()\n",
    "\n",
    "# 5) Export\n",
    "bar_path  = os.path.join(PROC_DIR, \"bar_passengers_by_line.png\")\n",
    "line_path = os.path.join(PROC_DIR, \"line_trend_by_line.png\")\n",
    "fig_bar.write_image(bar_path, scale=2)\n",
    "fig_line.write_image(line_path, scale=2)\n",
    "print(\"Charts saved:\", bar_path, \"and\", line_path)\n"
   ]
  }
 ],
 "metadata": {
  "kernelspec": {
   "display_name": "Python 3",
   "language": "python",
   "name": "python3"
  },
  "language_info": {
   "codemirror_mode": {
    "name": "ipython",
    "version": 3
   },
   "file_extension": ".py",
   "mimetype": "text/x-python",
   "name": "python",
   "nbconvert_exporter": "python",
   "pygments_lexer": "ipython3",
   "version": "3.12.6"
  }
 },
 "nbformat": 4,
 "nbformat_minor": 5
}
