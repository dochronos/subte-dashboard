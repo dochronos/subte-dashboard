{
 "cells": [
  {
   "cell_type": "code",
   "execution_count": null,
   "id": "e535b7f9",
   "metadata": {},
   "outputs": [],
   "source": [
    "import os, glob, csv, pandas as pd, re\n",
    "from collections import defaultdict\n",
    "\n",
    "BASE_DIR = os.path.abspath(\"..\")\n",
    "RAW_DIR = os.path.join(BASE_DIR, \"data\", \"raw\")\n",
    "MOL_DIR = os.path.join(RAW_DIR, \"molinetes\")\n",
    "\n",
    "mol_csvs = sorted(glob.glob(os.path.join(MOL_DIR, \"*.csv\")))\n",
    "print(\"CSV detectados:\", len(mol_csvs))\n",
    "for p in mol_csvs[:5]:\n",
    "    print(\" -\", os.path.basename(p))\n",
    "\n",
    "assert len(mol_csvs) > 0, \"No se encontraron CSVs en data/raw/molinetes/.\"\n",
    "\n",
    "ENC = \"utf-8-sig\"\n",
    "SEP = \";\"\n",
    "\n",
    "\n",
    "def normalize_token(s: str) -> str:\n",
    "    s = (s or \"\").strip().strip('\"').strip()          # quita comillas/espacios\n",
    "    s = re.sub(r\"\\s+\", \"_\", s)                         # espacios -> _\n",
    "    s = s.lower()\n",
    "    if s == \"\":\n",
    "        s = \"col\"\n",
    "    return s\n",
    "\n",
    "def make_unique(cols):\n",
    "    seen = defaultdict(int)\n",
    "    out = []\n",
    "    for c in cols:\n",
    "        base = normalize_token(c)\n",
    "        seen[base] += 1\n",
    "        if seen[base] > 1:\n",
    "            out.append(f\"{base}_{seen[base]-1}\")       # col, col_1, col_2...\n",
    "        else:\n",
    "            out.append(base)\n",
    "    return out\n",
    "\n",
    "def read_header_names(path, enc=\"utf-8-sig\", sep=\";\"):\n",
    "    with open(path, \"r\", encoding=enc, errors=\"replace\") as f:\n",
    "        first_line = f.readline().rstrip(\"\\n\\r\")\n",
    "    # quita comillas de punta si aparecen\n",
    "    if first_line.startswith('\"') and first_line.endswith('\"'):\n",
    "        first_line = first_line[1:-1]\n",
    "    raw_cols = [c for c in first_line.split(sep)]\n",
    "    cols = make_unique(raw_cols)\n",
    "    return cols\n",
    "\n",
    "def read_molinetes_quoted(path, enc=\"utf-8-sig\", sep=\";\"):\n",
    "    cols = read_header_names(path, enc=enc, sep=sep)\n",
    "    # leer con header=None y nuestros names únicos\n",
    "    df = pd.read_csv(\n",
    "        path,\n",
    "        sep=sep,\n",
    "        encoding=enc,\n",
    "        engine=\"python\",\n",
    "        header=None,\n",
    "        names=cols,\n",
    "        quoting=csv.QUOTE_NONE,\n",
    "        on_bad_lines=\"skip\"\n",
    "    )\n",
    "    # limpiar comillas residuales en object\n",
    "    for c in df.select_dtypes(include=\"object\").columns:\n",
    "        df[c] = df[c].astype(str).str.strip('\"').str.strip()\n",
    "    return df\n",
    "\n",
    "# Cargar una muestra de 3 archivos\n",
    "df_list = []\n",
    "for p in mol_csvs[:3]:\n",
    "    df = read_molinetes_quoted(p, enc=ENC, sep=SEP)\n",
    "    df[\"source_file\"] = os.path.basename(p)\n",
    "    df_list.append(df)\n",
    "\n",
    "mol = pd.concat(df_list, ignore_index=True)\n",
    "mol.columns = [c.strip().lower() for c in mol.columns]\n",
    "\n",
    "# Mapeo a nombres canónicos\n",
    "rename_map = {}\n",
    "for c in mol.columns:\n",
    "    if c in {\"fecha\"}: rename_map[c] = \"date\"\n",
    "    if c in {\"desde\", \"desde_hora\", \"hora_desde\"}: rename_map[c] = \"time_from\"\n",
    "    if c in {\"hasta\", \"hasta_hora\", \"hora_hasta\"}: rename_map[c] = \"time_to\"\n",
    "    if c in {\"linea\", \"línea\", \"line\"}: rename_map[c] = \"line\"\n",
    "    if c in {\"estacion\", \"estación\", \"station\"}: rename_map[c] = \"station\"\n",
    "    # campos de demanda comunes\n",
    "    if c in {\"pax_total\",\"viajes\",\"pasajeros\",\"pax\",\"passengers\",\"conteo\",\"count\"}:\n",
    "        rename_map[c] = \"passengers\"\n",
    "\n",
    "mol = mol.rename(columns=rename_map)\n",
    "\n",
    "# Parseos\n",
    "if \"date\" in mol.columns:\n",
    "    mol[\"date\"] = pd.to_datetime(mol[\"date\"], errors=\"coerce\", dayfirst=True)\n",
    "    mol[\"year_month\"] = mol[\"date\"].dt.to_period(\"M\").astype(str)\n",
    "\n",
    "for col in [\"line\",\"station\",\"time_from\",\"time_to\"]:\n",
    "    if col in mol.columns:\n",
    "        mol[col] = mol[col].astype(str).str.strip().str.upper()\n",
    "\n",
    "# Si no existe passengers, tratar de derivarlo\n",
    "if \"passengers\" not in mol.columns:\n",
    "    for alt in [\"pax_total\",\"viajes\",\"pasajeros\",\"pax\",\"count\"]:\n",
    "        if alt in mol.columns:\n",
    "            mol[\"passengers\"] = pd.to_numeric(mol[alt], errors=\"coerce\")\n",
    "            break\n",
    "\n",
    "# Normalizar línea \"LineaB\" -> \"B\"\n",
    "if \"line\" in mol.columns:\n",
    "    mol[\"line\"] = (mol[\"line\"]\n",
    "                   .str.upper()\n",
    "                   .str.replace(r\"^LINEA\", \"\", regex=True)\n",
    "                   .str.strip())\n",
    "\n",
    "mol.head()\n"
   ]
  },
  {
   "cell_type": "code",
   "execution_count": null,
   "id": "8683a311",
   "metadata": {},
   "outputs": [],
   "source": [
    "import numpy as np\n",
    "# 1) eliminar columnas basura si existen\n",
    "for bad in [\"col\", \"col_1\", \"unnamed: 1\", \"unnamed: 2\"]:\n",
    "    if bad in mol.columns:\n",
    "        mol = mol.drop(columns=[bad], errors=\"ignore\")\n",
    "\n",
    "# 2) eliminar la fila de encabezado “incrustada” (detectable porque trae 'DESDE'/'HASTA')\n",
    "mask_header_row = (\n",
    "    mol.get(\"time_from\", \"\").astype(str).str.upper().eq(\"DESDE\") |\n",
    "    mol.get(\"time_to\", \"\").astype(str).str.upper().eq(\"HASTA\")\n",
    ")\n",
    "mol = mol.loc[~mask_header_row].copy()\n",
    "\n",
    "# 3) coerción de tipos\n",
    "if \"date\" in mol.columns:\n",
    "    mol[\"date\"] = pd.to_datetime(mol[\"date\"], errors=\"coerce\", dayfirst=True)\n",
    "    mol[\"year_month\"] = mol[\"date\"].dt.to_period(\"M\").astype(str)\n",
    "\n",
    "for col in [\"time_from\",\"time_to\"]:\n",
    "    if col in mol.columns:\n",
    "        # mantener como string HH:MM:SS; si quisieras tipo time:\n",
    "        # mol[col] = pd.to_datetime(mol[col], format=\"%H:%M:%S\", errors=\"coerce\").dt.time\n",
    "        mol[col] = mol[col].astype(str).str.strip()\n",
    "\n",
    "for col in [\"line\",\"station\",\"molinete\"]:\n",
    "    if col in mol.columns:\n",
    "        mol[col] = mol[col].astype(str).str.strip().str.upper()\n",
    "\n",
    "# 4) pasajeros numérico (preferimos pax_total si existe)\n",
    "if \"passengers\" not in mol.columns:\n",
    "    for cand in [\"pax_total\",\"viajes\",\"pasajeros\",\"pax\",\"count\"]:\n",
    "        if cand in mol.columns:\n",
    "            mol[\"passengers\"] = pd.to_numeric(mol[cand], errors=\"coerce\")\n",
    "            break\n",
    "else:\n",
    "    mol[\"passengers\"] = pd.to_numeric(mol[\"passengers\"], errors=\"coerce\")\n",
    "\n",
    "# 5) normalizar línea \"LINEA B\" o \"LineaB\" -> \"B\"\n",
    "if \"line\" in mol.columns:\n",
    "    mol[\"line\"] = (mol[\"line\"]\n",
    "                   .str.replace(r\"^LINEA\\s*\", \"\", regex=True)\n",
    "                   .str.replace(r\"^LINEA\", \"\", regex=True)\n",
    "                   .str.replace(\"_\", \" \")\n",
    "                   .str.strip()\n",
    "                   .str.upper())\n",
    "\n",
    "mol = mol.reset_index(drop=True)\n",
    "mol.head()\n"
   ]
  },
  {
   "cell_type": "code",
   "execution_count": null,
   "id": "a77ba002",
   "metadata": {},
   "outputs": [],
   "source": [
    "# Pasajeros totales por línea (muestra 3 CSV)\n",
    "agg_line = (mol\n",
    "            .dropna(subset=[\"line\",\"passengers\"])\n",
    "            .groupby(\"line\", as_index=False)[\"passengers\"].sum()\n",
    "            .sort_values(\"passengers\", ascending=False))\n",
    "agg_line\n"
   ]
  },
  {
   "cell_type": "code",
   "execution_count": 11,
   "id": "4c93454a",
   "metadata": {},
   "outputs": [],
   "source": [
    "# Tendencia mensual por línea (si hay fechas)\n",
    "if \"year_month\" in mol.columns:\n",
    "    trend = (mol\n",
    "             .dropna(subset=[\"year_month\",\"line\",\"passengers\"])\n",
    "             .groupby([\"year_month\",\"line\"], as_index=False)[\"passengers\"].sum()\n",
    "             .sort_values([\"year_month\",\"line\"]))\n",
    "    trend.head(12)\n"
   ]
  },
  {
   "cell_type": "code",
   "execution_count": 12,
   "id": "c929e80a",
   "metadata": {},
   "outputs": [
    {
     "data": {
      "application/vnd.plotly.v1+json": {
       "config": {
        "plotlyServerURL": "https://plot.ly"
       },
       "data": [
        {
         "alignmentgroup": "True",
         "hovertemplate": "line=%{x}<br>passengers=%{y}<extra></extra>",
         "legendgroup": "",
         "marker": {
          "color": "#636efa",
          "pattern": {
           "shape": ""
          }
         },
         "name": "",
         "offsetgroup": "",
         "orientation": "v",
         "showlegend": false,
         "textposition": "auto",
         "texttemplate": "%{y}",
         "type": "bar",
         "x": [
          "B",
          "A",
          "C",
          "H",
          "E",
          "D"
         ],
         "xaxis": "x",
         "y": [
          8300556,
          6361281,
          5201400,
          1659613,
          1411591,
          605572
         ],
         "yaxis": "y"
        }
       ],
       "layout": {
        "barmode": "relative",
        "legend": {
         "tracegroupgap": 0
        },
        "template": {
         "data": {
          "bar": [
           {
            "error_x": {
             "color": "#2a3f5f"
            },
            "error_y": {
             "color": "#2a3f5f"
            },
            "marker": {
             "line": {
              "color": "#E5ECF6",
              "width": 0.5
             },
             "pattern": {
              "fillmode": "overlay",
              "size": 10,
              "solidity": 0.2
             }
            },
            "type": "bar"
           }
          ],
          "barpolar": [
           {
            "marker": {
             "line": {
              "color": "#E5ECF6",
              "width": 0.5
             },
             "pattern": {
              "fillmode": "overlay",
              "size": 10,
              "solidity": 0.2
             }
            },
            "type": "barpolar"
           }
          ],
          "carpet": [
           {
            "aaxis": {
             "endlinecolor": "#2a3f5f",
             "gridcolor": "white",
             "linecolor": "white",
             "minorgridcolor": "white",
             "startlinecolor": "#2a3f5f"
            },
            "baxis": {
             "endlinecolor": "#2a3f5f",
             "gridcolor": "white",
             "linecolor": "white",
             "minorgridcolor": "white",
             "startlinecolor": "#2a3f5f"
            },
            "type": "carpet"
           }
          ],
          "choropleth": [
           {
            "colorbar": {
             "outlinewidth": 0,
             "ticks": ""
            },
            "type": "choropleth"
           }
          ],
          "contour": [
           {
            "colorbar": {
             "outlinewidth": 0,
             "ticks": ""
            },
            "colorscale": [
             [
              0,
              "#0d0887"
             ],
             [
              0.1111111111111111,
              "#46039f"
             ],
             [
              0.2222222222222222,
              "#7201a8"
             ],
             [
              0.3333333333333333,
              "#9c179e"
             ],
             [
              0.4444444444444444,
              "#bd3786"
             ],
             [
              0.5555555555555556,
              "#d8576b"
             ],
             [
              0.6666666666666666,
              "#ed7953"
             ],
             [
              0.7777777777777778,
              "#fb9f3a"
             ],
             [
              0.8888888888888888,
              "#fdca26"
             ],
             [
              1,
              "#f0f921"
             ]
            ],
            "type": "contour"
           }
          ],
          "contourcarpet": [
           {
            "colorbar": {
             "outlinewidth": 0,
             "ticks": ""
            },
            "type": "contourcarpet"
           }
          ],
          "heatmap": [
           {
            "colorbar": {
             "outlinewidth": 0,
             "ticks": ""
            },
            "colorscale": [
             [
              0,
              "#0d0887"
             ],
             [
              0.1111111111111111,
              "#46039f"
             ],
             [
              0.2222222222222222,
              "#7201a8"
             ],
             [
              0.3333333333333333,
              "#9c179e"
             ],
             [
              0.4444444444444444,
              "#bd3786"
             ],
             [
              0.5555555555555556,
              "#d8576b"
             ],
             [
              0.6666666666666666,
              "#ed7953"
             ],
             [
              0.7777777777777778,
              "#fb9f3a"
             ],
             [
              0.8888888888888888,
              "#fdca26"
             ],
             [
              1,
              "#f0f921"
             ]
            ],
            "type": "heatmap"
           }
          ],
          "heatmapgl": [
           {
            "colorbar": {
             "outlinewidth": 0,
             "ticks": ""
            },
            "colorscale": [
             [
              0,
              "#0d0887"
             ],
             [
              0.1111111111111111,
              "#46039f"
             ],
             [
              0.2222222222222222,
              "#7201a8"
             ],
             [
              0.3333333333333333,
              "#9c179e"
             ],
             [
              0.4444444444444444,
              "#bd3786"
             ],
             [
              0.5555555555555556,
              "#d8576b"
             ],
             [
              0.6666666666666666,
              "#ed7953"
             ],
             [
              0.7777777777777778,
              "#fb9f3a"
             ],
             [
              0.8888888888888888,
              "#fdca26"
             ],
             [
              1,
              "#f0f921"
             ]
            ],
            "type": "heatmapgl"
           }
          ],
          "histogram": [
           {
            "marker": {
             "pattern": {
              "fillmode": "overlay",
              "size": 10,
              "solidity": 0.2
             }
            },
            "type": "histogram"
           }
          ],
          "histogram2d": [
           {
            "colorbar": {
             "outlinewidth": 0,
             "ticks": ""
            },
            "colorscale": [
             [
              0,
              "#0d0887"
             ],
             [
              0.1111111111111111,
              "#46039f"
             ],
             [
              0.2222222222222222,
              "#7201a8"
             ],
             [
              0.3333333333333333,
              "#9c179e"
             ],
             [
              0.4444444444444444,
              "#bd3786"
             ],
             [
              0.5555555555555556,
              "#d8576b"
             ],
             [
              0.6666666666666666,
              "#ed7953"
             ],
             [
              0.7777777777777778,
              "#fb9f3a"
             ],
             [
              0.8888888888888888,
              "#fdca26"
             ],
             [
              1,
              "#f0f921"
             ]
            ],
            "type": "histogram2d"
           }
          ],
          "histogram2dcontour": [
           {
            "colorbar": {
             "outlinewidth": 0,
             "ticks": ""
            },
            "colorscale": [
             [
              0,
              "#0d0887"
             ],
             [
              0.1111111111111111,
              "#46039f"
             ],
             [
              0.2222222222222222,
              "#7201a8"
             ],
             [
              0.3333333333333333,
              "#9c179e"
             ],
             [
              0.4444444444444444,
              "#bd3786"
             ],
             [
              0.5555555555555556,
              "#d8576b"
             ],
             [
              0.6666666666666666,
              "#ed7953"
             ],
             [
              0.7777777777777778,
              "#fb9f3a"
             ],
             [
              0.8888888888888888,
              "#fdca26"
             ],
             [
              1,
              "#f0f921"
             ]
            ],
            "type": "histogram2dcontour"
           }
          ],
          "mesh3d": [
           {
            "colorbar": {
             "outlinewidth": 0,
             "ticks": ""
            },
            "type": "mesh3d"
           }
          ],
          "parcoords": [
           {
            "line": {
             "colorbar": {
              "outlinewidth": 0,
              "ticks": ""
             }
            },
            "type": "parcoords"
           }
          ],
          "pie": [
           {
            "automargin": true,
            "type": "pie"
           }
          ],
          "scatter": [
           {
            "fillpattern": {
             "fillmode": "overlay",
             "size": 10,
             "solidity": 0.2
            },
            "type": "scatter"
           }
          ],
          "scatter3d": [
           {
            "line": {
             "colorbar": {
              "outlinewidth": 0,
              "ticks": ""
             }
            },
            "marker": {
             "colorbar": {
              "outlinewidth": 0,
              "ticks": ""
             }
            },
            "type": "scatter3d"
           }
          ],
          "scattercarpet": [
           {
            "marker": {
             "colorbar": {
              "outlinewidth": 0,
              "ticks": ""
             }
            },
            "type": "scattercarpet"
           }
          ],
          "scattergeo": [
           {
            "marker": {
             "colorbar": {
              "outlinewidth": 0,
              "ticks": ""
             }
            },
            "type": "scattergeo"
           }
          ],
          "scattergl": [
           {
            "marker": {
             "colorbar": {
              "outlinewidth": 0,
              "ticks": ""
             }
            },
            "type": "scattergl"
           }
          ],
          "scattermapbox": [
           {
            "marker": {
             "colorbar": {
              "outlinewidth": 0,
              "ticks": ""
             }
            },
            "type": "scattermapbox"
           }
          ],
          "scatterpolar": [
           {
            "marker": {
             "colorbar": {
              "outlinewidth": 0,
              "ticks": ""
             }
            },
            "type": "scatterpolar"
           }
          ],
          "scatterpolargl": [
           {
            "marker": {
             "colorbar": {
              "outlinewidth": 0,
              "ticks": ""
             }
            },
            "type": "scatterpolargl"
           }
          ],
          "scatterternary": [
           {
            "marker": {
             "colorbar": {
              "outlinewidth": 0,
              "ticks": ""
             }
            },
            "type": "scatterternary"
           }
          ],
          "surface": [
           {
            "colorbar": {
             "outlinewidth": 0,
             "ticks": ""
            },
            "colorscale": [
             [
              0,
              "#0d0887"
             ],
             [
              0.1111111111111111,
              "#46039f"
             ],
             [
              0.2222222222222222,
              "#7201a8"
             ],
             [
              0.3333333333333333,
              "#9c179e"
             ],
             [
              0.4444444444444444,
              "#bd3786"
             ],
             [
              0.5555555555555556,
              "#d8576b"
             ],
             [
              0.6666666666666666,
              "#ed7953"
             ],
             [
              0.7777777777777778,
              "#fb9f3a"
             ],
             [
              0.8888888888888888,
              "#fdca26"
             ],
             [
              1,
              "#f0f921"
             ]
            ],
            "type": "surface"
           }
          ],
          "table": [
           {
            "cells": {
             "fill": {
              "color": "#EBF0F8"
             },
             "line": {
              "color": "white"
             }
            },
            "header": {
             "fill": {
              "color": "#C8D4E3"
             },
             "line": {
              "color": "white"
             }
            },
            "type": "table"
           }
          ]
         },
         "layout": {
          "annotationdefaults": {
           "arrowcolor": "#2a3f5f",
           "arrowhead": 0,
           "arrowwidth": 1
          },
          "autotypenumbers": "strict",
          "coloraxis": {
           "colorbar": {
            "outlinewidth": 0,
            "ticks": ""
           }
          },
          "colorscale": {
           "diverging": [
            [
             0,
             "#8e0152"
            ],
            [
             0.1,
             "#c51b7d"
            ],
            [
             0.2,
             "#de77ae"
            ],
            [
             0.3,
             "#f1b6da"
            ],
            [
             0.4,
             "#fde0ef"
            ],
            [
             0.5,
             "#f7f7f7"
            ],
            [
             0.6,
             "#e6f5d0"
            ],
            [
             0.7,
             "#b8e186"
            ],
            [
             0.8,
             "#7fbc41"
            ],
            [
             0.9,
             "#4d9221"
            ],
            [
             1,
             "#276419"
            ]
           ],
           "sequential": [
            [
             0,
             "#0d0887"
            ],
            [
             0.1111111111111111,
             "#46039f"
            ],
            [
             0.2222222222222222,
             "#7201a8"
            ],
            [
             0.3333333333333333,
             "#9c179e"
            ],
            [
             0.4444444444444444,
             "#bd3786"
            ],
            [
             0.5555555555555556,
             "#d8576b"
            ],
            [
             0.6666666666666666,
             "#ed7953"
            ],
            [
             0.7777777777777778,
             "#fb9f3a"
            ],
            [
             0.8888888888888888,
             "#fdca26"
            ],
            [
             1,
             "#f0f921"
            ]
           ],
           "sequentialminus": [
            [
             0,
             "#0d0887"
            ],
            [
             0.1111111111111111,
             "#46039f"
            ],
            [
             0.2222222222222222,
             "#7201a8"
            ],
            [
             0.3333333333333333,
             "#9c179e"
            ],
            [
             0.4444444444444444,
             "#bd3786"
            ],
            [
             0.5555555555555556,
             "#d8576b"
            ],
            [
             0.6666666666666666,
             "#ed7953"
            ],
            [
             0.7777777777777778,
             "#fb9f3a"
            ],
            [
             0.8888888888888888,
             "#fdca26"
            ],
            [
             1,
             "#f0f921"
            ]
           ]
          },
          "colorway": [
           "#636efa",
           "#EF553B",
           "#00cc96",
           "#ab63fa",
           "#FFA15A",
           "#19d3f3",
           "#FF6692",
           "#B6E880",
           "#FF97FF",
           "#FECB52"
          ],
          "font": {
           "color": "#2a3f5f"
          },
          "geo": {
           "bgcolor": "white",
           "lakecolor": "white",
           "landcolor": "#E5ECF6",
           "showlakes": true,
           "showland": true,
           "subunitcolor": "white"
          },
          "hoverlabel": {
           "align": "left"
          },
          "hovermode": "closest",
          "mapbox": {
           "style": "light"
          },
          "paper_bgcolor": "white",
          "plot_bgcolor": "#E5ECF6",
          "polar": {
           "angularaxis": {
            "gridcolor": "white",
            "linecolor": "white",
            "ticks": ""
           },
           "bgcolor": "#E5ECF6",
           "radialaxis": {
            "gridcolor": "white",
            "linecolor": "white",
            "ticks": ""
           }
          },
          "scene": {
           "xaxis": {
            "backgroundcolor": "#E5ECF6",
            "gridcolor": "white",
            "gridwidth": 2,
            "linecolor": "white",
            "showbackground": true,
            "ticks": "",
            "zerolinecolor": "white"
           },
           "yaxis": {
            "backgroundcolor": "#E5ECF6",
            "gridcolor": "white",
            "gridwidth": 2,
            "linecolor": "white",
            "showbackground": true,
            "ticks": "",
            "zerolinecolor": "white"
           },
           "zaxis": {
            "backgroundcolor": "#E5ECF6",
            "gridcolor": "white",
            "gridwidth": 2,
            "linecolor": "white",
            "showbackground": true,
            "ticks": "",
            "zerolinecolor": "white"
           }
          },
          "shapedefaults": {
           "line": {
            "color": "#2a3f5f"
           }
          },
          "ternary": {
           "aaxis": {
            "gridcolor": "white",
            "linecolor": "white",
            "ticks": ""
           },
           "baxis": {
            "gridcolor": "white",
            "linecolor": "white",
            "ticks": ""
           },
           "bgcolor": "#E5ECF6",
           "caxis": {
            "gridcolor": "white",
            "linecolor": "white",
            "ticks": ""
           }
          },
          "title": {
           "x": 0.05
          },
          "xaxis": {
           "automargin": true,
           "gridcolor": "white",
           "linecolor": "white",
           "ticks": "",
           "title": {
            "standoff": 15
           },
           "zerolinecolor": "white",
           "zerolinewidth": 2
          },
          "yaxis": {
           "automargin": true,
           "gridcolor": "white",
           "linecolor": "white",
           "ticks": "",
           "title": {
            "standoff": 15
           },
           "zerolinecolor": "white",
           "zerolinewidth": 2
          }
         }
        },
        "title": {
         "text": "Passengers by Line (sample of 3 CSVs)"
        },
        "xaxis": {
         "anchor": "y",
         "domain": [
          0,
          1
         ],
         "title": {
          "text": "Line"
         }
        },
        "yaxis": {
         "anchor": "x",
         "domain": [
          0,
          1
         ],
         "title": {
          "text": "Passengers"
         }
        }
       }
      }
     },
     "metadata": {},
     "output_type": "display_data"
    }
   ],
   "source": [
    "import plotly.express as px\n",
    "\n",
    "# Barras por línea\n",
    "fig_bar = px.bar(\n",
    "    agg_line,\n",
    "    x=\"line\",\n",
    "    y=\"passengers\",\n",
    "    title=\"Passengers by Line (sample of 3 CSVs)\",\n",
    "    text_auto=True\n",
    ")\n",
    "fig_bar.update_layout(xaxis_title=\"Line\", yaxis_title=\"Passengers\")\n",
    "fig_bar.show()\n"
   ]
  },
  {
   "cell_type": "code",
   "execution_count": 13,
   "id": "b97fa31d",
   "metadata": {},
   "outputs": [],
   "source": [
    "# Línea temporal por línea (si existe trend)\n",
    "if \"year_month\" in globals():\n",
    "    fig_line = px.line(\n",
    "        trend,\n",
    "        x=\"year_month\",\n",
    "        y=\"passengers\",\n",
    "        color=\"line\",\n",
    "        markers=True,\n",
    "        title=\"Monthly Passengers by Line (sample)\"\n",
    "    )\n",
    "    fig_line.update_layout(xaxis_title=\"Year-Month\", yaxis_title=\"Passengers\")\n",
    "    fig_line.show()\n"
   ]
  },
  {
   "cell_type": "code",
   "execution_count": 14,
   "id": "c014c752",
   "metadata": {},
   "outputs": [
    {
     "data": {
      "text/plain": [
       "'Saved processed outputs to ../data/processed/'"
      ]
     },
     "execution_count": 14,
     "metadata": {},
     "output_type": "execute_result"
    }
   ],
   "source": [
    "import os\n",
    "os.makedirs(\"../data/processed\", exist_ok=True)\n",
    "\n",
    "agg_line.to_csv(\"../data/processed/agg_passengers_by_line.csv\", index=False)\n",
    "if \"year_month\" in mol.columns:\n",
    "    trend.to_csv(\"../data/processed/trend_passengers_by_line_month.csv\", index=False)\n",
    "\n",
    "\"Saved processed outputs to ../data/processed/\"\n"
   ]
  }
 ],
 "metadata": {
  "kernelspec": {
   "display_name": "Python 3",
   "language": "python",
   "name": "python3"
  },
  "language_info": {
   "codemirror_mode": {
    "name": "ipython",
    "version": 3
   },
   "file_extension": ".py",
   "mimetype": "text/x-python",
   "name": "python",
   "nbconvert_exporter": "python",
   "pygments_lexer": "ipython3",
   "version": "3.12.6"
  }
 },
 "nbformat": 4,
 "nbformat_minor": 5
}
