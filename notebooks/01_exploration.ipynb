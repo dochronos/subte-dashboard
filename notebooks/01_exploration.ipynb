{
 "cells": [
  {
   "cell_type": "code",
   "execution_count": 1,
   "id": "37ee6465",
   "metadata": {},
   "outputs": [],
   "source": [
    "import os\n",
    "import glob\n",
    "import pandas as pd\n",
    "\n",
    "pd.options.display.max_rows = 10\n",
    "pd.options.display.float_format = '{:,.0f}'.format\n",
    "\n",
    "RAW_DIR = \"../data/raw\"\n",
    "MOL_2024_DIR = os.path.join(RAW_DIR, \"molinetes\", \"2024\")\n",
    "FREQ_XLSX = os.path.join(RAW_DIR, \"frecuencia\", \"frecuencia_subte.xlsx\")"
   ]
  },
  {
   "cell_type": "code",
   "execution_count": 2,
   "id": "749f9685",
   "metadata": {},
   "outputs": [
    {
     "data": {
      "text/plain": [
       "[]"
      ]
     },
     "execution_count": 2,
     "metadata": {},
     "output_type": "execute_result"
    }
   ],
   "source": [
    "csv_paths = sorted(glob.glob(os.path.join(MOL_2024_DIR, \"*.csv\")))[:3]\n",
    "csv_paths"
   ]
  },
  {
   "cell_type": "code",
   "execution_count": 3,
   "id": "bd4d1490",
   "metadata": {},
   "outputs": [
    {
     "ename": "ValueError",
     "evalue": "No objects to concatenate",
     "output_type": "error",
     "traceback": [
      "\u001b[1;31m---------------------------------------------------------------------------\u001b[0m",
      "\u001b[1;31mValueError\u001b[0m                                Traceback (most recent call last)",
      "Cell \u001b[1;32mIn[3], line 13\u001b[0m\n\u001b[0;32m     10\u001b[0m     df_tmp[\u001b[38;5;124m\"\u001b[39m\u001b[38;5;124msource_file\u001b[39m\u001b[38;5;124m\"\u001b[39m] \u001b[38;5;241m=\u001b[39m os\u001b[38;5;241m.\u001b[39mpath\u001b[38;5;241m.\u001b[39mbasename(p)\n\u001b[0;32m     11\u001b[0m     df_list\u001b[38;5;241m.\u001b[39mappend(df_tmp)\n\u001b[1;32m---> 13\u001b[0m mol \u001b[38;5;241m=\u001b[39m \u001b[43mpd\u001b[49m\u001b[38;5;241;43m.\u001b[39;49m\u001b[43mconcat\u001b[49m\u001b[43m(\u001b[49m\u001b[43mdf_list\u001b[49m\u001b[43m,\u001b[49m\u001b[43m \u001b[49m\u001b[43mignore_index\u001b[49m\u001b[38;5;241;43m=\u001b[39;49m\u001b[38;5;28;43;01mTrue\u001b[39;49;00m\u001b[43m)\u001b[49m\n\u001b[0;32m     14\u001b[0m mol\u001b[38;5;241m.\u001b[39mhead()\n",
      "File \u001b[1;32m~\\AppData\\Roaming\\Python\\Python312\\site-packages\\pandas\\core\\reshape\\concat.py:382\u001b[0m, in \u001b[0;36mconcat\u001b[1;34m(objs, axis, join, ignore_index, keys, levels, names, verify_integrity, sort, copy)\u001b[0m\n\u001b[0;32m    379\u001b[0m \u001b[38;5;28;01melif\u001b[39;00m copy \u001b[38;5;129;01mand\u001b[39;00m using_copy_on_write():\n\u001b[0;32m    380\u001b[0m     copy \u001b[38;5;241m=\u001b[39m \u001b[38;5;28;01mFalse\u001b[39;00m\n\u001b[1;32m--> 382\u001b[0m op \u001b[38;5;241m=\u001b[39m \u001b[43m_Concatenator\u001b[49m\u001b[43m(\u001b[49m\n\u001b[0;32m    383\u001b[0m \u001b[43m    \u001b[49m\u001b[43mobjs\u001b[49m\u001b[43m,\u001b[49m\n\u001b[0;32m    384\u001b[0m \u001b[43m    \u001b[49m\u001b[43maxis\u001b[49m\u001b[38;5;241;43m=\u001b[39;49m\u001b[43maxis\u001b[49m\u001b[43m,\u001b[49m\n\u001b[0;32m    385\u001b[0m \u001b[43m    \u001b[49m\u001b[43mignore_index\u001b[49m\u001b[38;5;241;43m=\u001b[39;49m\u001b[43mignore_index\u001b[49m\u001b[43m,\u001b[49m\n\u001b[0;32m    386\u001b[0m \u001b[43m    \u001b[49m\u001b[43mjoin\u001b[49m\u001b[38;5;241;43m=\u001b[39;49m\u001b[43mjoin\u001b[49m\u001b[43m,\u001b[49m\n\u001b[0;32m    387\u001b[0m \u001b[43m    \u001b[49m\u001b[43mkeys\u001b[49m\u001b[38;5;241;43m=\u001b[39;49m\u001b[43mkeys\u001b[49m\u001b[43m,\u001b[49m\n\u001b[0;32m    388\u001b[0m \u001b[43m    \u001b[49m\u001b[43mlevels\u001b[49m\u001b[38;5;241;43m=\u001b[39;49m\u001b[43mlevels\u001b[49m\u001b[43m,\u001b[49m\n\u001b[0;32m    389\u001b[0m \u001b[43m    \u001b[49m\u001b[43mnames\u001b[49m\u001b[38;5;241;43m=\u001b[39;49m\u001b[43mnames\u001b[49m\u001b[43m,\u001b[49m\n\u001b[0;32m    390\u001b[0m \u001b[43m    \u001b[49m\u001b[43mverify_integrity\u001b[49m\u001b[38;5;241;43m=\u001b[39;49m\u001b[43mverify_integrity\u001b[49m\u001b[43m,\u001b[49m\n\u001b[0;32m    391\u001b[0m \u001b[43m    \u001b[49m\u001b[43mcopy\u001b[49m\u001b[38;5;241;43m=\u001b[39;49m\u001b[43mcopy\u001b[49m\u001b[43m,\u001b[49m\n\u001b[0;32m    392\u001b[0m \u001b[43m    \u001b[49m\u001b[43msort\u001b[49m\u001b[38;5;241;43m=\u001b[39;49m\u001b[43msort\u001b[49m\u001b[43m,\u001b[49m\n\u001b[0;32m    393\u001b[0m \u001b[43m\u001b[49m\u001b[43m)\u001b[49m\n\u001b[0;32m    395\u001b[0m \u001b[38;5;28;01mreturn\u001b[39;00m op\u001b[38;5;241m.\u001b[39mget_result()\n",
      "File \u001b[1;32m~\\AppData\\Roaming\\Python\\Python312\\site-packages\\pandas\\core\\reshape\\concat.py:445\u001b[0m, in \u001b[0;36m_Concatenator.__init__\u001b[1;34m(self, objs, axis, join, keys, levels, names, ignore_index, verify_integrity, copy, sort)\u001b[0m\n\u001b[0;32m    442\u001b[0m \u001b[38;5;28mself\u001b[39m\u001b[38;5;241m.\u001b[39mverify_integrity \u001b[38;5;241m=\u001b[39m verify_integrity\n\u001b[0;32m    443\u001b[0m \u001b[38;5;28mself\u001b[39m\u001b[38;5;241m.\u001b[39mcopy \u001b[38;5;241m=\u001b[39m copy\n\u001b[1;32m--> 445\u001b[0m objs, keys \u001b[38;5;241m=\u001b[39m \u001b[38;5;28;43mself\u001b[39;49m\u001b[38;5;241;43m.\u001b[39;49m\u001b[43m_clean_keys_and_objs\u001b[49m\u001b[43m(\u001b[49m\u001b[43mobjs\u001b[49m\u001b[43m,\u001b[49m\u001b[43m \u001b[49m\u001b[43mkeys\u001b[49m\u001b[43m)\u001b[49m\n\u001b[0;32m    447\u001b[0m \u001b[38;5;66;03m# figure out what our result ndim is going to be\u001b[39;00m\n\u001b[0;32m    448\u001b[0m ndims \u001b[38;5;241m=\u001b[39m \u001b[38;5;28mself\u001b[39m\u001b[38;5;241m.\u001b[39m_get_ndims(objs)\n",
      "File \u001b[1;32m~\\AppData\\Roaming\\Python\\Python312\\site-packages\\pandas\\core\\reshape\\concat.py:507\u001b[0m, in \u001b[0;36m_Concatenator._clean_keys_and_objs\u001b[1;34m(self, objs, keys)\u001b[0m\n\u001b[0;32m    504\u001b[0m     objs_list \u001b[38;5;241m=\u001b[39m \u001b[38;5;28mlist\u001b[39m(objs)\n\u001b[0;32m    506\u001b[0m \u001b[38;5;28;01mif\u001b[39;00m \u001b[38;5;28mlen\u001b[39m(objs_list) \u001b[38;5;241m==\u001b[39m \u001b[38;5;241m0\u001b[39m:\n\u001b[1;32m--> 507\u001b[0m     \u001b[38;5;28;01mraise\u001b[39;00m \u001b[38;5;167;01mValueError\u001b[39;00m(\u001b[38;5;124m\"\u001b[39m\u001b[38;5;124mNo objects to concatenate\u001b[39m\u001b[38;5;124m\"\u001b[39m)\n\u001b[0;32m    509\u001b[0m \u001b[38;5;28;01mif\u001b[39;00m keys \u001b[38;5;129;01mis\u001b[39;00m \u001b[38;5;28;01mNone\u001b[39;00m:\n\u001b[0;32m    510\u001b[0m     objs_list \u001b[38;5;241m=\u001b[39m \u001b[38;5;28mlist\u001b[39m(com\u001b[38;5;241m.\u001b[39mnot_none(\u001b[38;5;241m*\u001b[39mobjs_list))\n",
      "\u001b[1;31mValueError\u001b[0m: No objects to concatenate"
     ]
    }
   ],
   "source": [
    "df_list = []\n",
    "for p in csv_paths:\n",
    "    try:\n",
    "        df_tmp = pd.read_csv(p, encoding=\"utf-8\")\n",
    "    except UnicodeDecodeError:\n",
    "        df_tmp = pd.read_csv(p, encoding=\"latin1\")\n",
    "    # Si el separador es ; en vez de ,\n",
    "    if df_tmp.shape[1] == 1:  # probablemente sea ; o mal parseado\n",
    "        df_tmp = pd.read_csv(p, sep=\";\", encoding=df_tmp.encoding if hasattr(df_tmp, \"encoding\") else \"utf-8\", engine=\"python\")\n",
    "    df_tmp[\"source_file\"] = os.path.basename(p)\n",
    "    df_list.append(df_tmp)\n",
    "\n",
    "mol = pd.concat(df_list, ignore_index=True)\n",
    "mol.head()"
   ]
  },
  {
   "cell_type": "code",
   "execution_count": null,
   "id": "810eb03c",
   "metadata": {},
   "outputs": [],
   "source": [
    "cols = [c.lower() for c in mol.columns]\n",
    "mol.columns = cols\n",
    "\n",
    "rename_map = {}\n",
    "for c in mol.columns:\n",
    "    if c in [\"linea\", \"line\", \"línea\"]:\n",
    "        rename_map[c] = \"line\"\n",
    "    if c in [\"estacion\", \"estación\", \"station\"]:\n",
    "        rename_map[c] = \"station\"\n",
    "    if c in [\"fecha\", \"date\"]:\n",
    "        rename_map[c] = \"date\"\n",
    "    if c in [\"viajes\", \"pasajeros\", \"passengers\", \"conteo\", \"count\"]:\n",
    "        rename_map[c] = \"passengers\"\n",
    "\n",
    "mol = mol.rename(columns=rename_map)\n",
    "\n",
    "if \"date\" in mol.columns:\n",
    "    mol[\"date\"] = pd.to_datetime(mol[\"date\"], errors=\"coerce\", dayfirst=True)\n",
    "    mol[\"year_month\"] = mol[\"date\"].dt.to_period(\"M\").astype(str)\n",
    "\n",
    "for col in [\"line\", \"station\"]:\n",
    "    if col in mol.columns:\n",
    "        mol[col] = mol[col].astype(str).str.strip().str.upper()\n",
    "\n",
    "if \"passengers\" in mol.columns:\n",
    "    mol[\"passengers\"] = pd.to_numeric(mol[\"passengers\"], errors=\"coerce\")\n",
    "\n",
    "mol.head()"
   ]
  },
  {
   "cell_type": "code",
   "execution_count": null,
   "id": "2004d396",
   "metadata": {},
   "outputs": [],
   "source": [
    "agg_line = (mol\n",
    "            .dropna(subset=[\"line\",\"passengers\"])\n",
    "            .groupby(\"line\", as_index=False)[\"passengers\"].sum()\n",
    "            .sort_values(\"passengers\", ascending=False))\n",
    "agg_line.head(10)"
   ]
  },
  {
   "cell_type": "code",
   "execution_count": null,
   "id": "b693a1bb",
   "metadata": {},
   "outputs": [],
   "source": [
    "if \"year_month\" in mol.columns:\n",
    "    trend = (mol\n",
    "             .dropna(subset=[\"year_month\",\"passengers\"])\n",
    "             .groupby([\"year_month\",\"line\"], as_index=False)[\"passengers\"].sum()\n",
    "             .sort_values([\"year_month\",\"line\"]))\n",
    "    trend.head(12)"
   ]
  },
  {
   "cell_type": "code",
   "execution_count": null,
   "id": "bdadac1d",
   "metadata": {},
   "outputs": [],
   "source": [
    "freq = pd.read_excel(FREQ_XLSX)\n",
    "freq.columns = [c.lower() for c in freq.columns]\n",
    "\n",
    "rename_freq = {}\n",
    "for c in freq.columns:\n",
    "    if c in [\"linea\", \"line\", \"línea\"]:\n",
    "        rename_freq[c] = \"line\"\n",
    "    if c in [\"mes\", \"month\", \"periodo\", \"period\"]:\n",
    "        rename_freq[c] = \"year_month\"\n",
    "    if c in [\"frecuencia\", \"trenes\", \"despachos\", \"services\", \"dispatches\"]:\n",
    "        rename_freq[c] = \"services\"\n",
    "\n",
    "freq = freq.rename(columns=rename_freq)\n",
    "\n",
    "for col in [\"line\", \"year_month\"]:\n",
    "    if col in freq.columns:\n",
    "        freq[col] = freq[col].astype(str).str.strip().str.upper()\n",
    "\n",
    "if \"services\" in freq.columns:\n",
    "    freq[\"services\"] = pd.to_numeric(freq[\"services\"], errors=\"coerce\")\n",
    "\n",
    "freq.head()"
   ]
  },
  {
   "cell_type": "code",
   "execution_count": null,
   "id": "06022e7e",
   "metadata": {},
   "outputs": [],
   "source": [
    "if {\"year_month\",\"line\",\"passengers\"}.issubset(set(trend.columns)) and {\"year_month\",\"line\",\"services\"}.issubset(set(freq.columns)):\n",
    "    kpi = (trend.merge(freq[[\"year_month\",\"line\",\"services\"]], on=[\"year_month\",\"line\"], how=\"left\")\n",
    "                 .assign(pax_per_service=lambda d: d[\"passengers\"] / d[\"services\"]))\n",
    "    kpi.sort_values([\"year_month\",\"line\"]).head(12)\n",
    "else:\n",
    "    kpi = None\n",
    "kpi.head() if kpi is not None else \"KPI join not available yet (check column names)\""
   ]
  },
  {
   "cell_type": "code",
   "execution_count": null,
   "id": "2b1b3309",
   "metadata": {},
   "outputs": [],
   "source": [
    "os.makedirs(\"../data/processed\", exist_ok=True)\n",
    "mol_sample = mol.copy()\n",
    "\n",
    "keep_cols = [c for c in [\"year_month\",\"line\",\"station\",\"passengers\"] if c in mol_sample.columns]\n",
    "mol_sample = mol_sample[keep_cols].dropna()\n",
    "\n",
    "mol_sample.to_csv(\"../data/processed/molinetes_sample.csv\", index=False)\n",
    "if kpi is not None:\n",
    "    kpi.to_csv(\"../data/processed/kpi_pax_per_service.csv\", index=False)\n",
    "\n",
    "\"Saved processed samples to ../data/processed/\""
   ]
  }
 ],
 "metadata": {
  "kernelspec": {
   "display_name": "Python 3",
   "language": "python",
   "name": "python3"
  },
  "language_info": {
   "codemirror_mode": {
    "name": "ipython",
    "version": 3
   },
   "file_extension": ".py",
   "mimetype": "text/x-python",
   "name": "python",
   "nbconvert_exporter": "python",
   "pygments_lexer": "ipython3",
   "version": "3.12.6"
  }
 },
 "nbformat": 4,
 "nbformat_minor": 5
}
