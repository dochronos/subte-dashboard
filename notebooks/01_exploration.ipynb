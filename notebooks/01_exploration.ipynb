{
 "cells": [
  {
   "cell_type": "code",
   "execution_count": 1,
   "id": "e535b7f9",
   "metadata": {},
   "outputs": [
    {
     "name": "stdout",
     "output_type": "stream",
     "text": [
      "CSV detectados: 24\n",
      " - 202401_PAX15min-ABC.csv\n",
      " - 202401_PAX15min-DEH.csv\n",
      " - 202402_PAX15min-ABC.csv\n",
      " - 202402_PAX15min-DEH.csv\n",
      " - 202403_PAX15min-ABC.csv\n"
     ]
    },
    {
     "name": "stderr",
     "output_type": "stream",
     "text": [
      "C:\\Users\\do_ch\\AppData\\Local\\Temp\\ipykernel_15636\\3415789008.py:93: UserWarning: Could not infer format, so each element will be parsed individually, falling back to `dateutil`. To ensure parsing is consistent and as-expected, please specify a format.\n",
      "  mol[\"date\"] = pd.to_datetime(mol[\"date\"], errors=\"coerce\", dayfirst=True)\n"
     ]
    },
    {
     "data": {
      "application/vnd.microsoft.datawrangler.viewer.v0+json": {
       "columns": [
        {
         "name": "index",
         "rawType": "int64",
         "type": "integer"
        },
        {
         "name": "date",
         "rawType": "datetime64[ns]",
         "type": "datetime"
        },
        {
         "name": "time_from",
         "rawType": "object",
         "type": "string"
        },
        {
         "name": "time_to",
         "rawType": "object",
         "type": "string"
        },
        {
         "name": "line",
         "rawType": "object",
         "type": "string"
        },
        {
         "name": "molinete",
         "rawType": "object",
         "type": "string"
        },
        {
         "name": "station",
         "rawType": "object",
         "type": "string"
        },
        {
         "name": "pax_pagos",
         "rawType": "object",
         "type": "string"
        },
        {
         "name": "pax_pases_pagos",
         "rawType": "object",
         "type": "string"
        },
        {
         "name": "pax_franq",
         "rawType": "object",
         "type": "string"
        },
        {
         "name": "passengers",
         "rawType": "object",
         "type": "string"
        },
        {
         "name": "source_file",
         "rawType": "object",
         "type": "string"
        },
        {
         "name": "col",
         "rawType": "float64",
         "type": "float"
        },
        {
         "name": "col_1",
         "rawType": "float64",
         "type": "float"
        },
        {
         "name": "year_month",
         "rawType": "object",
         "type": "string"
        }
       ],
       "ref": "8235f6d3-d928-47eb-85f2-cb8dcb562395",
       "rows": [
        [
         "0",
         null,
         "DESDE",
         "HASTA",
         "",
         "MOLINETE",
         "ESTACION",
         "pax_pagos",
         "pax_pases_pagos",
         "pax_franq",
         "pax_TOTAL",
         "202401_PAX15min-ABC.csv",
         null,
         null,
         "NaT"
        ],
        [
         "1",
         "2024-01-01 00:00:00",
         "07:45:00",
         "08:00:00",
         "B",
         "LineaB_Malabia_N_Turn01",
         "MALABIA",
         "3",
         "0",
         "0",
         "3",
         "202401_PAX15min-ABC.csv",
         null,
         null,
         "2024-01"
        ],
        [
         "2",
         "2024-01-01 00:00:00",
         "07:45:00",
         "08:00:00",
         "B",
         "LineaB_Tronador_Turn01",
         "TRONADOR",
         "1",
         "0",
         "0",
         "1",
         "202401_PAX15min-ABC.csv",
         null,
         null,
         "2024-01"
        ],
        [
         "3",
         "2024-01-01 00:00:00",
         "07:45:00",
         "08:00:00",
         "B",
         "LineaB_Pellegrini_E_Turn05",
         "CARLOS PELLEGRINI",
         "13",
         "0",
         "0",
         "13",
         "202401_PAX15min-ABC.csv",
         null,
         null,
         "2024-01"
        ],
        [
         "4",
         "2024-01-01 00:00:00",
         "07:45:00",
         "08:00:00",
         "A",
         "LineaA_Flores_Este_Turn03",
         "FLORES",
         "2",
         "0",
         "0",
         "2",
         "202401_PAX15min-ABC.csv",
         null,
         null,
         "2024-01"
        ]
       ],
       "shape": {
        "columns": 14,
        "rows": 5
       }
      },
      "text/html": [
       "<div>\n",
       "<style scoped>\n",
       "    .dataframe tbody tr th:only-of-type {\n",
       "        vertical-align: middle;\n",
       "    }\n",
       "\n",
       "    .dataframe tbody tr th {\n",
       "        vertical-align: top;\n",
       "    }\n",
       "\n",
       "    .dataframe thead th {\n",
       "        text-align: right;\n",
       "    }\n",
       "</style>\n",
       "<table border=\"1\" class=\"dataframe\">\n",
       "  <thead>\n",
       "    <tr style=\"text-align: right;\">\n",
       "      <th></th>\n",
       "      <th>date</th>\n",
       "      <th>time_from</th>\n",
       "      <th>time_to</th>\n",
       "      <th>line</th>\n",
       "      <th>molinete</th>\n",
       "      <th>station</th>\n",
       "      <th>pax_pagos</th>\n",
       "      <th>pax_pases_pagos</th>\n",
       "      <th>pax_franq</th>\n",
       "      <th>passengers</th>\n",
       "      <th>source_file</th>\n",
       "      <th>col</th>\n",
       "      <th>col_1</th>\n",
       "      <th>year_month</th>\n",
       "    </tr>\n",
       "  </thead>\n",
       "  <tbody>\n",
       "    <tr>\n",
       "      <th>0</th>\n",
       "      <td>NaT</td>\n",
       "      <td>DESDE</td>\n",
       "      <td>HASTA</td>\n",
       "      <td></td>\n",
       "      <td>MOLINETE</td>\n",
       "      <td>ESTACION</td>\n",
       "      <td>pax_pagos</td>\n",
       "      <td>pax_pases_pagos</td>\n",
       "      <td>pax_franq</td>\n",
       "      <td>pax_TOTAL</td>\n",
       "      <td>202401_PAX15min-ABC.csv</td>\n",
       "      <td>NaN</td>\n",
       "      <td>NaN</td>\n",
       "      <td>NaT</td>\n",
       "    </tr>\n",
       "    <tr>\n",
       "      <th>1</th>\n",
       "      <td>2024-01-01</td>\n",
       "      <td>07:45:00</td>\n",
       "      <td>08:00:00</td>\n",
       "      <td>B</td>\n",
       "      <td>LineaB_Malabia_N_Turn01</td>\n",
       "      <td>MALABIA</td>\n",
       "      <td>3</td>\n",
       "      <td>0</td>\n",
       "      <td>0</td>\n",
       "      <td>3</td>\n",
       "      <td>202401_PAX15min-ABC.csv</td>\n",
       "      <td>NaN</td>\n",
       "      <td>NaN</td>\n",
       "      <td>2024-01</td>\n",
       "    </tr>\n",
       "    <tr>\n",
       "      <th>2</th>\n",
       "      <td>2024-01-01</td>\n",
       "      <td>07:45:00</td>\n",
       "      <td>08:00:00</td>\n",
       "      <td>B</td>\n",
       "      <td>LineaB_Tronador_Turn01</td>\n",
       "      <td>TRONADOR</td>\n",
       "      <td>1</td>\n",
       "      <td>0</td>\n",
       "      <td>0</td>\n",
       "      <td>1</td>\n",
       "      <td>202401_PAX15min-ABC.csv</td>\n",
       "      <td>NaN</td>\n",
       "      <td>NaN</td>\n",
       "      <td>2024-01</td>\n",
       "    </tr>\n",
       "    <tr>\n",
       "      <th>3</th>\n",
       "      <td>2024-01-01</td>\n",
       "      <td>07:45:00</td>\n",
       "      <td>08:00:00</td>\n",
       "      <td>B</td>\n",
       "      <td>LineaB_Pellegrini_E_Turn05</td>\n",
       "      <td>CARLOS PELLEGRINI</td>\n",
       "      <td>13</td>\n",
       "      <td>0</td>\n",
       "      <td>0</td>\n",
       "      <td>13</td>\n",
       "      <td>202401_PAX15min-ABC.csv</td>\n",
       "      <td>NaN</td>\n",
       "      <td>NaN</td>\n",
       "      <td>2024-01</td>\n",
       "    </tr>\n",
       "    <tr>\n",
       "      <th>4</th>\n",
       "      <td>2024-01-01</td>\n",
       "      <td>07:45:00</td>\n",
       "      <td>08:00:00</td>\n",
       "      <td>A</td>\n",
       "      <td>LineaA_Flores_Este_Turn03</td>\n",
       "      <td>FLORES</td>\n",
       "      <td>2</td>\n",
       "      <td>0</td>\n",
       "      <td>0</td>\n",
       "      <td>2</td>\n",
       "      <td>202401_PAX15min-ABC.csv</td>\n",
       "      <td>NaN</td>\n",
       "      <td>NaN</td>\n",
       "      <td>2024-01</td>\n",
       "    </tr>\n",
       "  </tbody>\n",
       "</table>\n",
       "</div>"
      ],
      "text/plain": [
       "        date time_from   time_to line                    molinete  \\\n",
       "0        NaT     DESDE     HASTA                         MOLINETE   \n",
       "1 2024-01-01  07:45:00  08:00:00    B     LineaB_Malabia_N_Turn01   \n",
       "2 2024-01-01  07:45:00  08:00:00    B      LineaB_Tronador_Turn01   \n",
       "3 2024-01-01  07:45:00  08:00:00    B  LineaB_Pellegrini_E_Turn05   \n",
       "4 2024-01-01  07:45:00  08:00:00    A   LineaA_Flores_Este_Turn03   \n",
       "\n",
       "             station  pax_pagos  pax_pases_pagos  pax_franq passengers  \\\n",
       "0           ESTACION  pax_pagos  pax_pases_pagos  pax_franq  pax_TOTAL   \n",
       "1            MALABIA          3                0          0          3   \n",
       "2           TRONADOR          1                0          0          1   \n",
       "3  CARLOS PELLEGRINI         13                0          0         13   \n",
       "4             FLORES          2                0          0          2   \n",
       "\n",
       "               source_file  col  col_1 year_month  \n",
       "0  202401_PAX15min-ABC.csv  NaN    NaN        NaT  \n",
       "1  202401_PAX15min-ABC.csv  NaN    NaN    2024-01  \n",
       "2  202401_PAX15min-ABC.csv  NaN    NaN    2024-01  \n",
       "3  202401_PAX15min-ABC.csv  NaN    NaN    2024-01  \n",
       "4  202401_PAX15min-ABC.csv  NaN    NaN    2024-01  "
      ]
     },
     "execution_count": 1,
     "metadata": {},
     "output_type": "execute_result"
    }
   ],
   "source": [
    "import os, glob, csv, pandas as pd, re\n",
    "from collections import defaultdict\n",
    "\n",
    "BASE_DIR = os.path.abspath(\"..\")\n",
    "RAW_DIR = os.path.join(BASE_DIR, \"data\", \"raw\")\n",
    "MOL_DIR = os.path.join(RAW_DIR, \"molinetes\")\n",
    "\n",
    "mol_csvs = sorted(glob.glob(os.path.join(MOL_DIR, \"*.csv\")))\n",
    "print(\"CSV detectados:\", len(mol_csvs))\n",
    "for p in mol_csvs[:5]:\n",
    "    print(\" -\", os.path.basename(p))\n",
    "\n",
    "assert len(mol_csvs) > 0, \"No se encontraron CSVs en data/raw/molinetes/.\"\n",
    "\n",
    "ENC = \"utf-8-sig\"\n",
    "SEP = \";\"\n",
    "\n",
    "\n",
    "def normalize_token(s: str) -> str:\n",
    "    s = (s or \"\").strip().strip('\"').strip()          # quita comillas/espacios\n",
    "    s = re.sub(r\"\\s+\", \"_\", s)                         # espacios -> _\n",
    "    s = s.lower()\n",
    "    if s == \"\":\n",
    "        s = \"col\"\n",
    "    return s\n",
    "\n",
    "def make_unique(cols):\n",
    "    seen = defaultdict(int)\n",
    "    out = []\n",
    "    for c in cols:\n",
    "        base = normalize_token(c)\n",
    "        seen[base] += 1\n",
    "        if seen[base] > 1:\n",
    "            out.append(f\"{base}_{seen[base]-1}\")       # col, col_1, col_2...\n",
    "        else:\n",
    "            out.append(base)\n",
    "    return out\n",
    "\n",
    "def read_header_names(path, enc=\"utf-8-sig\", sep=\";\"):\n",
    "    with open(path, \"r\", encoding=enc, errors=\"replace\") as f:\n",
    "        first_line = f.readline().rstrip(\"\\n\\r\")\n",
    "    # quita comillas de punta si aparecen\n",
    "    if first_line.startswith('\"') and first_line.endswith('\"'):\n",
    "        first_line = first_line[1:-1]\n",
    "    raw_cols = [c for c in first_line.split(sep)]\n",
    "    cols = make_unique(raw_cols)\n",
    "    return cols\n",
    "\n",
    "def read_molinetes_quoted(path, enc=\"utf-8-sig\", sep=\";\"):\n",
    "    cols = read_header_names(path, enc=enc, sep=sep)\n",
    "    # leer con header=None y nuestros names únicos\n",
    "    df = pd.read_csv(\n",
    "        path,\n",
    "        sep=sep,\n",
    "        encoding=enc,\n",
    "        engine=\"python\",\n",
    "        header=None,\n",
    "        names=cols,\n",
    "        quoting=csv.QUOTE_NONE,\n",
    "        on_bad_lines=\"skip\"\n",
    "    )\n",
    "    # limpiar comillas residuales en object\n",
    "    for c in df.select_dtypes(include=\"object\").columns:\n",
    "        df[c] = df[c].astype(str).str.strip('\"').str.strip()\n",
    "    return df\n",
    "\n",
    "# Cargar una muestra de 3 archivos\n",
    "df_list = []\n",
    "for p in mol_csvs[:3]:\n",
    "    df = read_molinetes_quoted(p, enc=ENC, sep=SEP)\n",
    "    df[\"source_file\"] = os.path.basename(p)\n",
    "    df_list.append(df)\n",
    "\n",
    "mol = pd.concat(df_list, ignore_index=True)\n",
    "mol.columns = [c.strip().lower() for c in mol.columns]\n",
    "\n",
    "# Mapeo a nombres canónicos\n",
    "rename_map = {}\n",
    "for c in mol.columns:\n",
    "    if c in {\"fecha\"}: rename_map[c] = \"date\"\n",
    "    if c in {\"desde\", \"desde_hora\", \"hora_desde\"}: rename_map[c] = \"time_from\"\n",
    "    if c in {\"hasta\", \"hasta_hora\", \"hora_hasta\"}: rename_map[c] = \"time_to\"\n",
    "    if c in {\"linea\", \"línea\", \"line\"}: rename_map[c] = \"line\"\n",
    "    if c in {\"estacion\", \"estación\", \"station\"}: rename_map[c] = \"station\"\n",
    "    # campos de demanda comunes\n",
    "    if c in {\"pax_total\",\"viajes\",\"pasajeros\",\"pax\",\"passengers\",\"conteo\",\"count\"}:\n",
    "        rename_map[c] = \"passengers\"\n",
    "\n",
    "mol = mol.rename(columns=rename_map)\n",
    "\n",
    "# Parseos\n",
    "if \"date\" in mol.columns:\n",
    "    mol[\"date\"] = pd.to_datetime(mol[\"date\"], errors=\"coerce\", dayfirst=True)\n",
    "    mol[\"year_month\"] = mol[\"date\"].dt.to_period(\"M\").astype(str)\n",
    "\n",
    "for col in [\"line\",\"station\",\"time_from\",\"time_to\"]:\n",
    "    if col in mol.columns:\n",
    "        mol[col] = mol[col].astype(str).str.strip().str.upper()\n",
    "\n",
    "# Si no existe passengers, tratar de derivarlo\n",
    "if \"passengers\" not in mol.columns:\n",
    "    for alt in [\"pax_total\",\"viajes\",\"pasajeros\",\"pax\",\"count\"]:\n",
    "        if alt in mol.columns:\n",
    "            mol[\"passengers\"] = pd.to_numeric(mol[alt], errors=\"coerce\")\n",
    "            break\n",
    "\n",
    "# Normalizar línea \"LineaB\" -> \"B\"\n",
    "if \"line\" in mol.columns:\n",
    "    mol[\"line\"] = (mol[\"line\"]\n",
    "                   .str.upper()\n",
    "                   .str.replace(r\"^LINEA\", \"\", regex=True)\n",
    "                   .str.strip())\n",
    "\n",
    "mol.head()\n"
   ]
  },
  {
   "cell_type": "code",
   "execution_count": 2,
   "id": "8683a311",
   "metadata": {},
   "outputs": [
    {
     "data": {
      "application/vnd.microsoft.datawrangler.viewer.v0+json": {
       "columns": [
        {
         "name": "index",
         "rawType": "int64",
         "type": "integer"
        },
        {
         "name": "date",
         "rawType": "datetime64[ns]",
         "type": "datetime"
        },
        {
         "name": "time_from",
         "rawType": "object",
         "type": "string"
        },
        {
         "name": "time_to",
         "rawType": "object",
         "type": "string"
        },
        {
         "name": "line",
         "rawType": "object",
         "type": "string"
        },
        {
         "name": "molinete",
         "rawType": "object",
         "type": "string"
        },
        {
         "name": "station",
         "rawType": "object",
         "type": "string"
        },
        {
         "name": "pax_pagos",
         "rawType": "object",
         "type": "string"
        },
        {
         "name": "pax_pases_pagos",
         "rawType": "object",
         "type": "string"
        },
        {
         "name": "pax_franq",
         "rawType": "object",
         "type": "string"
        },
        {
         "name": "passengers",
         "rawType": "int64",
         "type": "integer"
        },
        {
         "name": "source_file",
         "rawType": "object",
         "type": "string"
        },
        {
         "name": "year_month",
         "rawType": "object",
         "type": "string"
        }
       ],
       "ref": "e61f5600-9abd-477f-8f98-cc4f06ab2fa7",
       "rows": [
        [
         "0",
         "2024-01-01 00:00:00",
         "07:45:00",
         "08:00:00",
         "B",
         "LINEAB_MALABIA_N_TURN01",
         "MALABIA",
         "3",
         "0",
         "0",
         "3",
         "202401_PAX15min-ABC.csv",
         "2024-01"
        ],
        [
         "1",
         "2024-01-01 00:00:00",
         "07:45:00",
         "08:00:00",
         "B",
         "LINEAB_TRONADOR_TURN01",
         "TRONADOR",
         "1",
         "0",
         "0",
         "1",
         "202401_PAX15min-ABC.csv",
         "2024-01"
        ],
        [
         "2",
         "2024-01-01 00:00:00",
         "07:45:00",
         "08:00:00",
         "B",
         "LINEAB_PELLEGRINI_E_TURN05",
         "CARLOS PELLEGRINI",
         "13",
         "0",
         "0",
         "13",
         "202401_PAX15min-ABC.csv",
         "2024-01"
        ],
        [
         "3",
         "2024-01-01 00:00:00",
         "07:45:00",
         "08:00:00",
         "A",
         "LINEAA_FLORES_ESTE_TURN03",
         "FLORES",
         "2",
         "0",
         "0",
         "2",
         "202401_PAX15min-ABC.csv",
         "2024-01"
        ],
        [
         "4",
         "2024-01-01 00:00:00",
         "07:45:00",
         "08:00:00",
         "B",
         "LINEAB_DORREGO_N_TURN03",
         "DORREGO",
         "1",
         "0",
         "0",
         "1",
         "202401_PAX15min-ABC.csv",
         "2024-01"
        ]
       ],
       "shape": {
        "columns": 12,
        "rows": 5
       }
      },
      "text/html": [
       "<div>\n",
       "<style scoped>\n",
       "    .dataframe tbody tr th:only-of-type {\n",
       "        vertical-align: middle;\n",
       "    }\n",
       "\n",
       "    .dataframe tbody tr th {\n",
       "        vertical-align: top;\n",
       "    }\n",
       "\n",
       "    .dataframe thead th {\n",
       "        text-align: right;\n",
       "    }\n",
       "</style>\n",
       "<table border=\"1\" class=\"dataframe\">\n",
       "  <thead>\n",
       "    <tr style=\"text-align: right;\">\n",
       "      <th></th>\n",
       "      <th>date</th>\n",
       "      <th>time_from</th>\n",
       "      <th>time_to</th>\n",
       "      <th>line</th>\n",
       "      <th>molinete</th>\n",
       "      <th>station</th>\n",
       "      <th>pax_pagos</th>\n",
       "      <th>pax_pases_pagos</th>\n",
       "      <th>pax_franq</th>\n",
       "      <th>passengers</th>\n",
       "      <th>source_file</th>\n",
       "      <th>year_month</th>\n",
       "    </tr>\n",
       "  </thead>\n",
       "  <tbody>\n",
       "    <tr>\n",
       "      <th>0</th>\n",
       "      <td>2024-01-01</td>\n",
       "      <td>07:45:00</td>\n",
       "      <td>08:00:00</td>\n",
       "      <td>B</td>\n",
       "      <td>LINEAB_MALABIA_N_TURN01</td>\n",
       "      <td>MALABIA</td>\n",
       "      <td>3</td>\n",
       "      <td>0</td>\n",
       "      <td>0</td>\n",
       "      <td>3</td>\n",
       "      <td>202401_PAX15min-ABC.csv</td>\n",
       "      <td>2024-01</td>\n",
       "    </tr>\n",
       "    <tr>\n",
       "      <th>1</th>\n",
       "      <td>2024-01-01</td>\n",
       "      <td>07:45:00</td>\n",
       "      <td>08:00:00</td>\n",
       "      <td>B</td>\n",
       "      <td>LINEAB_TRONADOR_TURN01</td>\n",
       "      <td>TRONADOR</td>\n",
       "      <td>1</td>\n",
       "      <td>0</td>\n",
       "      <td>0</td>\n",
       "      <td>1</td>\n",
       "      <td>202401_PAX15min-ABC.csv</td>\n",
       "      <td>2024-01</td>\n",
       "    </tr>\n",
       "    <tr>\n",
       "      <th>2</th>\n",
       "      <td>2024-01-01</td>\n",
       "      <td>07:45:00</td>\n",
       "      <td>08:00:00</td>\n",
       "      <td>B</td>\n",
       "      <td>LINEAB_PELLEGRINI_E_TURN05</td>\n",
       "      <td>CARLOS PELLEGRINI</td>\n",
       "      <td>13</td>\n",
       "      <td>0</td>\n",
       "      <td>0</td>\n",
       "      <td>13</td>\n",
       "      <td>202401_PAX15min-ABC.csv</td>\n",
       "      <td>2024-01</td>\n",
       "    </tr>\n",
       "    <tr>\n",
       "      <th>3</th>\n",
       "      <td>2024-01-01</td>\n",
       "      <td>07:45:00</td>\n",
       "      <td>08:00:00</td>\n",
       "      <td>A</td>\n",
       "      <td>LINEAA_FLORES_ESTE_TURN03</td>\n",
       "      <td>FLORES</td>\n",
       "      <td>2</td>\n",
       "      <td>0</td>\n",
       "      <td>0</td>\n",
       "      <td>2</td>\n",
       "      <td>202401_PAX15min-ABC.csv</td>\n",
       "      <td>2024-01</td>\n",
       "    </tr>\n",
       "    <tr>\n",
       "      <th>4</th>\n",
       "      <td>2024-01-01</td>\n",
       "      <td>07:45:00</td>\n",
       "      <td>08:00:00</td>\n",
       "      <td>B</td>\n",
       "      <td>LINEAB_DORREGO_N_TURN03</td>\n",
       "      <td>DORREGO</td>\n",
       "      <td>1</td>\n",
       "      <td>0</td>\n",
       "      <td>0</td>\n",
       "      <td>1</td>\n",
       "      <td>202401_PAX15min-ABC.csv</td>\n",
       "      <td>2024-01</td>\n",
       "    </tr>\n",
       "  </tbody>\n",
       "</table>\n",
       "</div>"
      ],
      "text/plain": [
       "        date time_from   time_to line                    molinete  \\\n",
       "0 2024-01-01  07:45:00  08:00:00    B     LINEAB_MALABIA_N_TURN01   \n",
       "1 2024-01-01  07:45:00  08:00:00    B      LINEAB_TRONADOR_TURN01   \n",
       "2 2024-01-01  07:45:00  08:00:00    B  LINEAB_PELLEGRINI_E_TURN05   \n",
       "3 2024-01-01  07:45:00  08:00:00    A   LINEAA_FLORES_ESTE_TURN03   \n",
       "4 2024-01-01  07:45:00  08:00:00    B     LINEAB_DORREGO_N_TURN03   \n",
       "\n",
       "             station pax_pagos pax_pases_pagos pax_franq  passengers  \\\n",
       "0            MALABIA         3               0         0           3   \n",
       "1           TRONADOR         1               0         0           1   \n",
       "2  CARLOS PELLEGRINI        13               0         0          13   \n",
       "3             FLORES         2               0         0           2   \n",
       "4            DORREGO         1               0         0           1   \n",
       "\n",
       "               source_file year_month  \n",
       "0  202401_PAX15min-ABC.csv    2024-01  \n",
       "1  202401_PAX15min-ABC.csv    2024-01  \n",
       "2  202401_PAX15min-ABC.csv    2024-01  \n",
       "3  202401_PAX15min-ABC.csv    2024-01  \n",
       "4  202401_PAX15min-ABC.csv    2024-01  "
      ]
     },
     "execution_count": 2,
     "metadata": {},
     "output_type": "execute_result"
    }
   ],
   "source": [
    "import numpy as np\n",
    "# 1) eliminar columnas basura si existen\n",
    "for bad in [\"col\", \"col_1\", \"unnamed: 1\", \"unnamed: 2\"]:\n",
    "    if bad in mol.columns:\n",
    "        mol = mol.drop(columns=[bad], errors=\"ignore\")\n",
    "\n",
    "# 2) eliminar la fila de encabezado “incrustada” (detectable porque trae 'DESDE'/'HASTA')\n",
    "mask_header_row = (\n",
    "    mol.get(\"time_from\", \"\").astype(str).str.upper().eq(\"DESDE\") |\n",
    "    mol.get(\"time_to\", \"\").astype(str).str.upper().eq(\"HASTA\")\n",
    ")\n",
    "mol = mol.loc[~mask_header_row].copy()\n",
    "\n",
    "# 3) coerción de tipos\n",
    "if \"date\" in mol.columns:\n",
    "    mol[\"date\"] = pd.to_datetime(mol[\"date\"], errors=\"coerce\", dayfirst=True)\n",
    "    mol[\"year_month\"] = mol[\"date\"].dt.to_period(\"M\").astype(str)\n",
    "\n",
    "for col in [\"time_from\",\"time_to\"]:\n",
    "    if col in mol.columns:\n",
    "        # mantener como string HH:MM:SS; si quisieras tipo time:\n",
    "        # mol[col] = pd.to_datetime(mol[col], format=\"%H:%M:%S\", errors=\"coerce\").dt.time\n",
    "        mol[col] = mol[col].astype(str).str.strip()\n",
    "\n",
    "for col in [\"line\",\"station\",\"molinete\"]:\n",
    "    if col in mol.columns:\n",
    "        mol[col] = mol[col].astype(str).str.strip().str.upper()\n",
    "\n",
    "# 4) pasajeros numérico (preferimos pax_total si existe)\n",
    "if \"passengers\" not in mol.columns:\n",
    "    for cand in [\"pax_total\",\"viajes\",\"pasajeros\",\"pax\",\"count\"]:\n",
    "        if cand in mol.columns:\n",
    "            mol[\"passengers\"] = pd.to_numeric(mol[cand], errors=\"coerce\")\n",
    "            break\n",
    "else:\n",
    "    mol[\"passengers\"] = pd.to_numeric(mol[\"passengers\"], errors=\"coerce\")\n",
    "\n",
    "# 5) normalizar línea \"LINEA B\" o \"LineaB\" -> \"B\"\n",
    "if \"line\" in mol.columns:\n",
    "    mol[\"line\"] = (mol[\"line\"]\n",
    "                   .str.replace(r\"^LINEA\\s*\", \"\", regex=True)\n",
    "                   .str.replace(r\"^LINEA\", \"\", regex=True)\n",
    "                   .str.replace(\"_\", \" \")\n",
    "                   .str.strip()\n",
    "                   .str.upper())\n",
    "\n",
    "mol = mol.reset_index(drop=True)\n",
    "mol.head()\n"
   ]
  },
  {
   "cell_type": "code",
   "execution_count": 3,
   "id": "a77ba002",
   "metadata": {},
   "outputs": [
    {
     "data": {
      "application/vnd.microsoft.datawrangler.viewer.v0+json": {
       "columns": [
        {
         "name": "index",
         "rawType": "int64",
         "type": "integer"
        },
        {
         "name": "line",
         "rawType": "object",
         "type": "string"
        },
        {
         "name": "passengers",
         "rawType": "int64",
         "type": "integer"
        }
       ],
       "ref": "6abe64ef-c84d-4d55-9f95-90339ecfafa7",
       "rows": [
        [
         "1",
         "B",
         "8300556"
        ],
        [
         "0",
         "A",
         "6361281"
        ],
        [
         "2",
         "C",
         "5201400"
        ],
        [
         "5",
         "H",
         "1659613"
        ],
        [
         "4",
         "E",
         "1411591"
        ],
        [
         "3",
         "D",
         "605572"
        ]
       ],
       "shape": {
        "columns": 2,
        "rows": 6
       }
      },
      "text/html": [
       "<div>\n",
       "<style scoped>\n",
       "    .dataframe tbody tr th:only-of-type {\n",
       "        vertical-align: middle;\n",
       "    }\n",
       "\n",
       "    .dataframe tbody tr th {\n",
       "        vertical-align: top;\n",
       "    }\n",
       "\n",
       "    .dataframe thead th {\n",
       "        text-align: right;\n",
       "    }\n",
       "</style>\n",
       "<table border=\"1\" class=\"dataframe\">\n",
       "  <thead>\n",
       "    <tr style=\"text-align: right;\">\n",
       "      <th></th>\n",
       "      <th>line</th>\n",
       "      <th>passengers</th>\n",
       "    </tr>\n",
       "  </thead>\n",
       "  <tbody>\n",
       "    <tr>\n",
       "      <th>1</th>\n",
       "      <td>B</td>\n",
       "      <td>8300556</td>\n",
       "    </tr>\n",
       "    <tr>\n",
       "      <th>0</th>\n",
       "      <td>A</td>\n",
       "      <td>6361281</td>\n",
       "    </tr>\n",
       "    <tr>\n",
       "      <th>2</th>\n",
       "      <td>C</td>\n",
       "      <td>5201400</td>\n",
       "    </tr>\n",
       "    <tr>\n",
       "      <th>5</th>\n",
       "      <td>H</td>\n",
       "      <td>1659613</td>\n",
       "    </tr>\n",
       "    <tr>\n",
       "      <th>4</th>\n",
       "      <td>E</td>\n",
       "      <td>1411591</td>\n",
       "    </tr>\n",
       "    <tr>\n",
       "      <th>3</th>\n",
       "      <td>D</td>\n",
       "      <td>605572</td>\n",
       "    </tr>\n",
       "  </tbody>\n",
       "</table>\n",
       "</div>"
      ],
      "text/plain": [
       "  line  passengers\n",
       "1    B     8300556\n",
       "0    A     6361281\n",
       "2    C     5201400\n",
       "5    H     1659613\n",
       "4    E     1411591\n",
       "3    D      605572"
      ]
     },
     "execution_count": 3,
     "metadata": {},
     "output_type": "execute_result"
    }
   ],
   "source": [
    "# Pasajeros totales por línea (muestra 3 CSV)\n",
    "agg_line = (mol\n",
    "            .dropna(subset=[\"line\",\"passengers\"])\n",
    "            .groupby(\"line\", as_index=False)[\"passengers\"].sum()\n",
    "            .sort_values(\"passengers\", ascending=False))\n",
    "agg_line\n"
   ]
  },
  {
   "cell_type": "code",
   "execution_count": 4,
   "id": "4c93454a",
   "metadata": {},
   "outputs": [],
   "source": [
    "# Tendencia mensual por línea (si hay fechas)\n",
    "if \"year_month\" in mol.columns:\n",
    "    trend = (mol\n",
    "             .dropna(subset=[\"year_month\",\"line\",\"passengers\"])\n",
    "             .groupby([\"year_month\",\"line\"], as_index=False)[\"passengers\"].sum()\n",
    "             .sort_values([\"year_month\",\"line\"]))\n",
    "    trend.head(12)\n"
   ]
  },
  {
   "cell_type": "code",
   "execution_count": 5,
   "id": "c929e80a",
   "metadata": {},
   "outputs": [
    {
     "data": {
      "application/vnd.plotly.v1+json": {
       "config": {
        "plotlyServerURL": "https://plot.ly"
       },
       "data": [
        {
         "alignmentgroup": "True",
         "hovertemplate": "line=%{x}<br>passengers=%{y}<extra></extra>",
         "legendgroup": "",
         "marker": {
          "color": "#636efa",
          "pattern": {
           "shape": ""
          }
         },
         "name": "",
         "offsetgroup": "",
         "orientation": "v",
         "showlegend": false,
         "textposition": "auto",
         "texttemplate": "%{y}",
         "type": "bar",
         "x": [
          "B",
          "A",
          "C",
          "H",
          "E",
          "D"
         ],
         "xaxis": "x",
         "y": [
          8300556,
          6361281,
          5201400,
          1659613,
          1411591,
          605572
         ],
         "yaxis": "y"
        }
       ],
       "layout": {
        "barmode": "relative",
        "legend": {
         "tracegroupgap": 0
        },
        "template": {
         "data": {
          "bar": [
           {
            "error_x": {
             "color": "#2a3f5f"
            },
            "error_y": {
             "color": "#2a3f5f"
            },
            "marker": {
             "line": {
              "color": "#E5ECF6",
              "width": 0.5
             },
             "pattern": {
              "fillmode": "overlay",
              "size": 10,
              "solidity": 0.2
             }
            },
            "type": "bar"
           }
          ],
          "barpolar": [
           {
            "marker": {
             "line": {
              "color": "#E5ECF6",
              "width": 0.5
             },
             "pattern": {
              "fillmode": "overlay",
              "size": 10,
              "solidity": 0.2
             }
            },
            "type": "barpolar"
           }
          ],
          "carpet": [
           {
            "aaxis": {
             "endlinecolor": "#2a3f5f",
             "gridcolor": "white",
             "linecolor": "white",
             "minorgridcolor": "white",
             "startlinecolor": "#2a3f5f"
            },
            "baxis": {
             "endlinecolor": "#2a3f5f",
             "gridcolor": "white",
             "linecolor": "white",
             "minorgridcolor": "white",
             "startlinecolor": "#2a3f5f"
            },
            "type": "carpet"
           }
          ],
          "choropleth": [
           {
            "colorbar": {
             "outlinewidth": 0,
             "ticks": ""
            },
            "type": "choropleth"
           }
          ],
          "contour": [
           {
            "colorbar": {
             "outlinewidth": 0,
             "ticks": ""
            },
            "colorscale": [
             [
              0,
              "#0d0887"
             ],
             [
              0.1111111111111111,
              "#46039f"
             ],
             [
              0.2222222222222222,
              "#7201a8"
             ],
             [
              0.3333333333333333,
              "#9c179e"
             ],
             [
              0.4444444444444444,
              "#bd3786"
             ],
             [
              0.5555555555555556,
              "#d8576b"
             ],
             [
              0.6666666666666666,
              "#ed7953"
             ],
             [
              0.7777777777777778,
              "#fb9f3a"
             ],
             [
              0.8888888888888888,
              "#fdca26"
             ],
             [
              1,
              "#f0f921"
             ]
            ],
            "type": "contour"
           }
          ],
          "contourcarpet": [
           {
            "colorbar": {
             "outlinewidth": 0,
             "ticks": ""
            },
            "type": "contourcarpet"
           }
          ],
          "heatmap": [
           {
            "colorbar": {
             "outlinewidth": 0,
             "ticks": ""
            },
            "colorscale": [
             [
              0,
              "#0d0887"
             ],
             [
              0.1111111111111111,
              "#46039f"
             ],
             [
              0.2222222222222222,
              "#7201a8"
             ],
             [
              0.3333333333333333,
              "#9c179e"
             ],
             [
              0.4444444444444444,
              "#bd3786"
             ],
             [
              0.5555555555555556,
              "#d8576b"
             ],
             [
              0.6666666666666666,
              "#ed7953"
             ],
             [
              0.7777777777777778,
              "#fb9f3a"
             ],
             [
              0.8888888888888888,
              "#fdca26"
             ],
             [
              1,
              "#f0f921"
             ]
            ],
            "type": "heatmap"
           }
          ],
          "heatmapgl": [
           {
            "colorbar": {
             "outlinewidth": 0,
             "ticks": ""
            },
            "colorscale": [
             [
              0,
              "#0d0887"
             ],
             [
              0.1111111111111111,
              "#46039f"
             ],
             [
              0.2222222222222222,
              "#7201a8"
             ],
             [
              0.3333333333333333,
              "#9c179e"
             ],
             [
              0.4444444444444444,
              "#bd3786"
             ],
             [
              0.5555555555555556,
              "#d8576b"
             ],
             [
              0.6666666666666666,
              "#ed7953"
             ],
             [
              0.7777777777777778,
              "#fb9f3a"
             ],
             [
              0.8888888888888888,
              "#fdca26"
             ],
             [
              1,
              "#f0f921"
             ]
            ],
            "type": "heatmapgl"
           }
          ],
          "histogram": [
           {
            "marker": {
             "pattern": {
              "fillmode": "overlay",
              "size": 10,
              "solidity": 0.2
             }
            },
            "type": "histogram"
           }
          ],
          "histogram2d": [
           {
            "colorbar": {
             "outlinewidth": 0,
             "ticks": ""
            },
            "colorscale": [
             [
              0,
              "#0d0887"
             ],
             [
              0.1111111111111111,
              "#46039f"
             ],
             [
              0.2222222222222222,
              "#7201a8"
             ],
             [
              0.3333333333333333,
              "#9c179e"
             ],
             [
              0.4444444444444444,
              "#bd3786"
             ],
             [
              0.5555555555555556,
              "#d8576b"
             ],
             [
              0.6666666666666666,
              "#ed7953"
             ],
             [
              0.7777777777777778,
              "#fb9f3a"
             ],
             [
              0.8888888888888888,
              "#fdca26"
             ],
             [
              1,
              "#f0f921"
             ]
            ],
            "type": "histogram2d"
           }
          ],
          "histogram2dcontour": [
           {
            "colorbar": {
             "outlinewidth": 0,
             "ticks": ""
            },
            "colorscale": [
             [
              0,
              "#0d0887"
             ],
             [
              0.1111111111111111,
              "#46039f"
             ],
             [
              0.2222222222222222,
              "#7201a8"
             ],
             [
              0.3333333333333333,
              "#9c179e"
             ],
             [
              0.4444444444444444,
              "#bd3786"
             ],
             [
              0.5555555555555556,
              "#d8576b"
             ],
             [
              0.6666666666666666,
              "#ed7953"
             ],
             [
              0.7777777777777778,
              "#fb9f3a"
             ],
             [
              0.8888888888888888,
              "#fdca26"
             ],
             [
              1,
              "#f0f921"
             ]
            ],
            "type": "histogram2dcontour"
           }
          ],
          "mesh3d": [
           {
            "colorbar": {
             "outlinewidth": 0,
             "ticks": ""
            },
            "type": "mesh3d"
           }
          ],
          "parcoords": [
           {
            "line": {
             "colorbar": {
              "outlinewidth": 0,
              "ticks": ""
             }
            },
            "type": "parcoords"
           }
          ],
          "pie": [
           {
            "automargin": true,
            "type": "pie"
           }
          ],
          "scatter": [
           {
            "fillpattern": {
             "fillmode": "overlay",
             "size": 10,
             "solidity": 0.2
            },
            "type": "scatter"
           }
          ],
          "scatter3d": [
           {
            "line": {
             "colorbar": {
              "outlinewidth": 0,
              "ticks": ""
             }
            },
            "marker": {
             "colorbar": {
              "outlinewidth": 0,
              "ticks": ""
             }
            },
            "type": "scatter3d"
           }
          ],
          "scattercarpet": [
           {
            "marker": {
             "colorbar": {
              "outlinewidth": 0,
              "ticks": ""
             }
            },
            "type": "scattercarpet"
           }
          ],
          "scattergeo": [
           {
            "marker": {
             "colorbar": {
              "outlinewidth": 0,
              "ticks": ""
             }
            },
            "type": "scattergeo"
           }
          ],
          "scattergl": [
           {
            "marker": {
             "colorbar": {
              "outlinewidth": 0,
              "ticks": ""
             }
            },
            "type": "scattergl"
           }
          ],
          "scattermapbox": [
           {
            "marker": {
             "colorbar": {
              "outlinewidth": 0,
              "ticks": ""
             }
            },
            "type": "scattermapbox"
           }
          ],
          "scatterpolar": [
           {
            "marker": {
             "colorbar": {
              "outlinewidth": 0,
              "ticks": ""
             }
            },
            "type": "scatterpolar"
           }
          ],
          "scatterpolargl": [
           {
            "marker": {
             "colorbar": {
              "outlinewidth": 0,
              "ticks": ""
             }
            },
            "type": "scatterpolargl"
           }
          ],
          "scatterternary": [
           {
            "marker": {
             "colorbar": {
              "outlinewidth": 0,
              "ticks": ""
             }
            },
            "type": "scatterternary"
           }
          ],
          "surface": [
           {
            "colorbar": {
             "outlinewidth": 0,
             "ticks": ""
            },
            "colorscale": [
             [
              0,
              "#0d0887"
             ],
             [
              0.1111111111111111,
              "#46039f"
             ],
             [
              0.2222222222222222,
              "#7201a8"
             ],
             [
              0.3333333333333333,
              "#9c179e"
             ],
             [
              0.4444444444444444,
              "#bd3786"
             ],
             [
              0.5555555555555556,
              "#d8576b"
             ],
             [
              0.6666666666666666,
              "#ed7953"
             ],
             [
              0.7777777777777778,
              "#fb9f3a"
             ],
             [
              0.8888888888888888,
              "#fdca26"
             ],
             [
              1,
              "#f0f921"
             ]
            ],
            "type": "surface"
           }
          ],
          "table": [
           {
            "cells": {
             "fill": {
              "color": "#EBF0F8"
             },
             "line": {
              "color": "white"
             }
            },
            "header": {
             "fill": {
              "color": "#C8D4E3"
             },
             "line": {
              "color": "white"
             }
            },
            "type": "table"
           }
          ]
         },
         "layout": {
          "annotationdefaults": {
           "arrowcolor": "#2a3f5f",
           "arrowhead": 0,
           "arrowwidth": 1
          },
          "autotypenumbers": "strict",
          "coloraxis": {
           "colorbar": {
            "outlinewidth": 0,
            "ticks": ""
           }
          },
          "colorscale": {
           "diverging": [
            [
             0,
             "#8e0152"
            ],
            [
             0.1,
             "#c51b7d"
            ],
            [
             0.2,
             "#de77ae"
            ],
            [
             0.3,
             "#f1b6da"
            ],
            [
             0.4,
             "#fde0ef"
            ],
            [
             0.5,
             "#f7f7f7"
            ],
            [
             0.6,
             "#e6f5d0"
            ],
            [
             0.7,
             "#b8e186"
            ],
            [
             0.8,
             "#7fbc41"
            ],
            [
             0.9,
             "#4d9221"
            ],
            [
             1,
             "#276419"
            ]
           ],
           "sequential": [
            [
             0,
             "#0d0887"
            ],
            [
             0.1111111111111111,
             "#46039f"
            ],
            [
             0.2222222222222222,
             "#7201a8"
            ],
            [
             0.3333333333333333,
             "#9c179e"
            ],
            [
             0.4444444444444444,
             "#bd3786"
            ],
            [
             0.5555555555555556,
             "#d8576b"
            ],
            [
             0.6666666666666666,
             "#ed7953"
            ],
            [
             0.7777777777777778,
             "#fb9f3a"
            ],
            [
             0.8888888888888888,
             "#fdca26"
            ],
            [
             1,
             "#f0f921"
            ]
           ],
           "sequentialminus": [
            [
             0,
             "#0d0887"
            ],
            [
             0.1111111111111111,
             "#46039f"
            ],
            [
             0.2222222222222222,
             "#7201a8"
            ],
            [
             0.3333333333333333,
             "#9c179e"
            ],
            [
             0.4444444444444444,
             "#bd3786"
            ],
            [
             0.5555555555555556,
             "#d8576b"
            ],
            [
             0.6666666666666666,
             "#ed7953"
            ],
            [
             0.7777777777777778,
             "#fb9f3a"
            ],
            [
             0.8888888888888888,
             "#fdca26"
            ],
            [
             1,
             "#f0f921"
            ]
           ]
          },
          "colorway": [
           "#636efa",
           "#EF553B",
           "#00cc96",
           "#ab63fa",
           "#FFA15A",
           "#19d3f3",
           "#FF6692",
           "#B6E880",
           "#FF97FF",
           "#FECB52"
          ],
          "font": {
           "color": "#2a3f5f"
          },
          "geo": {
           "bgcolor": "white",
           "lakecolor": "white",
           "landcolor": "#E5ECF6",
           "showlakes": true,
           "showland": true,
           "subunitcolor": "white"
          },
          "hoverlabel": {
           "align": "left"
          },
          "hovermode": "closest",
          "mapbox": {
           "style": "light"
          },
          "paper_bgcolor": "white",
          "plot_bgcolor": "#E5ECF6",
          "polar": {
           "angularaxis": {
            "gridcolor": "white",
            "linecolor": "white",
            "ticks": ""
           },
           "bgcolor": "#E5ECF6",
           "radialaxis": {
            "gridcolor": "white",
            "linecolor": "white",
            "ticks": ""
           }
          },
          "scene": {
           "xaxis": {
            "backgroundcolor": "#E5ECF6",
            "gridcolor": "white",
            "gridwidth": 2,
            "linecolor": "white",
            "showbackground": true,
            "ticks": "",
            "zerolinecolor": "white"
           },
           "yaxis": {
            "backgroundcolor": "#E5ECF6",
            "gridcolor": "white",
            "gridwidth": 2,
            "linecolor": "white",
            "showbackground": true,
            "ticks": "",
            "zerolinecolor": "white"
           },
           "zaxis": {
            "backgroundcolor": "#E5ECF6",
            "gridcolor": "white",
            "gridwidth": 2,
            "linecolor": "white",
            "showbackground": true,
            "ticks": "",
            "zerolinecolor": "white"
           }
          },
          "shapedefaults": {
           "line": {
            "color": "#2a3f5f"
           }
          },
          "ternary": {
           "aaxis": {
            "gridcolor": "white",
            "linecolor": "white",
            "ticks": ""
           },
           "baxis": {
            "gridcolor": "white",
            "linecolor": "white",
            "ticks": ""
           },
           "bgcolor": "#E5ECF6",
           "caxis": {
            "gridcolor": "white",
            "linecolor": "white",
            "ticks": ""
           }
          },
          "title": {
           "x": 0.05
          },
          "xaxis": {
           "automargin": true,
           "gridcolor": "white",
           "linecolor": "white",
           "ticks": "",
           "title": {
            "standoff": 15
           },
           "zerolinecolor": "white",
           "zerolinewidth": 2
          },
          "yaxis": {
           "automargin": true,
           "gridcolor": "white",
           "linecolor": "white",
           "ticks": "",
           "title": {
            "standoff": 15
           },
           "zerolinecolor": "white",
           "zerolinewidth": 2
          }
         }
        },
        "title": {
         "text": "Passengers by Line (sample of 3 CSVs)"
        },
        "xaxis": {
         "anchor": "y",
         "domain": [
          0,
          1
         ],
         "title": {
          "text": "Line"
         }
        },
        "yaxis": {
         "anchor": "x",
         "domain": [
          0,
          1
         ],
         "title": {
          "text": "Passengers"
         }
        }
       }
      }
     },
     "metadata": {},
     "output_type": "display_data"
    }
   ],
   "source": [
    "import plotly.express as px\n",
    "\n",
    "# Barras por línea\n",
    "fig_bar = px.bar(\n",
    "    agg_line,\n",
    "    x=\"line\",\n",
    "    y=\"passengers\",\n",
    "    title=\"Passengers by Line (sample of 3 CSVs)\",\n",
    "    text_auto=True\n",
    ")\n",
    "fig_bar.update_layout(xaxis_title=\"Line\", yaxis_title=\"Passengers\")\n",
    "fig_bar.show()\n"
   ]
  },
  {
   "cell_type": "code",
   "execution_count": 6,
   "id": "b97fa31d",
   "metadata": {},
   "outputs": [],
   "source": [
    "# Línea temporal por línea (si existe trend)\n",
    "if \"year_month\" in globals():\n",
    "    fig_line = px.line(\n",
    "        trend,\n",
    "        x=\"year_month\",\n",
    "        y=\"passengers\",\n",
    "        color=\"line\",\n",
    "        markers=True,\n",
    "        title=\"Monthly Passengers by Line (sample)\"\n",
    "    )\n",
    "    fig_line.update_layout(xaxis_title=\"Year-Month\", yaxis_title=\"Passengers\")\n",
    "    fig_line.show()\n"
   ]
  },
  {
   "cell_type": "code",
   "execution_count": 7,
   "id": "c014c752",
   "metadata": {},
   "outputs": [
    {
     "data": {
      "text/plain": [
       "'Saved processed outputs to ../data/processed/'"
      ]
     },
     "execution_count": 7,
     "metadata": {},
     "output_type": "execute_result"
    }
   ],
   "source": [
    "import os\n",
    "os.makedirs(\"../data/processed\", exist_ok=True)\n",
    "\n",
    "agg_line.to_csv(\"../data/processed/agg_passengers_by_line.csv\", index=False)\n",
    "if \"year_month\" in mol.columns:\n",
    "    trend.to_csv(\"../data/processed/trend_passengers_by_line_month.csv\", index=False)\n",
    "\n",
    "\"Saved processed outputs to ../data/processed/\"\n"
   ]
  }
 ],
 "metadata": {
  "kernelspec": {
   "display_name": "Python 3",
   "language": "python",
   "name": "python3"
  },
  "language_info": {
   "codemirror_mode": {
    "name": "ipython",
    "version": 3
   },
   "file_extension": ".py",
   "mimetype": "text/x-python",
   "name": "python",
   "nbconvert_exporter": "python",
   "pygments_lexer": "ipython3",
   "version": "3.12.6"
  }
 },
 "nbformat": 4,
 "nbformat_minor": 5
}
